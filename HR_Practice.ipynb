
{
 "cells": [
  {
   "cell_type": "code",
   "execution_count": 232,
   "metadata": {},
   "outputs": [],
   "source": [
"https://www.kaggle.com/gargmanish/hr-data-basic-eda-and-machine-learning",
    "import numpy as np\n",
    "import pandas as pd\n",
    "import matplotlib.pyplot as plt\n",
    "import seaborn as sns\n",
    "import os\n",
    "import sklearn\n",
    "#import itertools\n",
    "%matplotlib inline\n",
    "import warnings\n",
    "warnings.filterwarnings(\"ignore\")"
   ]
  },
  {
   "cell_type": "code",
   "execution_count": 93,
   "metadata": {},
   "outputs": [
    {
     "data": {
      "text/plain": [
       "['.ipynb_checkpoints',\n",
       " 'Aptus Case study Solution',\n",
       " 'build',\n",
       " 'dfname..xlsx',\n",
       " 'dist',\n",
       " 'Filtered_Output_Data.csv',\n",
       " 'hosuing price.csv',\n",
       " 'Housing.ipynb',\n",
       " 'HR_comma_sep.csv',\n",
       " 'HR_Practice.ipynb',\n",
       " 'HR_Practice.spec',\n",
       " 'Outlier Detection.ipynb',\n",
       " 'Tax Proofs',\n",
       " 'Telco-Customer-Churn.csv',\n",
       " 'telecom_churn.csv',\n",
       " 'text analysis',\n",
       " 'Twitter Sentiment Analysis.ipynb',\n",
       " 'Untitled.ipynb',\n",
       " 'Untitled1.ipynb']"
      ]
     },
     "execution_count": 93,
     "metadata": {},
     "output_type": "execute_result"
    }
   ],
   "source": [
    "os.listdir()"
   ]
  },
  {
   "cell_type": "code",
   "execution_count": 94,
   "metadata": {},
   "outputs": [
    {
     "data": {
      "text/html": [
       "<div>\n",
       "<style scoped>\n",
       "    .dataframe tbody tr th:only-of-type {\n",
       "        vertical-align: middle;\n",
       "    }\n",
       "\n",
       "    .dataframe tbody tr th {\n",
       "        vertical-align: top;\n",
       "    }\n",
       "\n",
       "    .dataframe thead th {\n",
       "        text-align: right;\n",
       "    }\n",
       "</style>\n",
       "<table border=\"1\" class=\"dataframe\">\n",
       "  <thead>\n",
       "    <tr style=\"text-align: right;\">\n",
       "      <th></th>\n",
       "      <th>satisfaction_level</th>\n",
       "      <th>last_evaluation</th>\n",
       "      <th>number_project</th>\n",
       "      <th>average_montly_hours</th>\n",
       "      <th>time_spend_company</th>\n",
       "      <th>Work_accident</th>\n",
       "      <th>left</th>\n",
       "      <th>promotion_last_5years</th>\n",
       "      <th>sales</th>\n",
       "      <th>salary</th>\n",
       "    </tr>\n",
       "  </thead>\n",
       "  <tbody>\n",
       "    <tr>\n",
       "      <th>0</th>\n",
       "      <td>0.38</td>\n",
       "      <td>0.53</td>\n",
       "      <td>2</td>\n",
       "      <td>157</td>\n",
       "      <td>3</td>\n",
       "      <td>0</td>\n",
       "      <td>1</td>\n",
       "      <td>0</td>\n",
       "      <td>sales</td>\n",
       "      <td>low</td>\n",
       "    </tr>\n",
       "    <tr>\n",
       "      <th>1</th>\n",
       "      <td>0.80</td>\n",
       "      <td>0.86</td>\n",
       "      <td>5</td>\n",
       "      <td>262</td>\n",
       "      <td>6</td>\n",
       "      <td>0</td>\n",
       "      <td>1</td>\n",
       "      <td>0</td>\n",
       "      <td>sales</td>\n",
       "      <td>medium</td>\n",
       "    </tr>\n",
       "    <tr>\n",
       "      <th>2</th>\n",
       "      <td>0.11</td>\n",
       "      <td>0.88</td>\n",
       "      <td>7</td>\n",
       "      <td>272</td>\n",
       "      <td>4</td>\n",
       "      <td>0</td>\n",
       "      <td>1</td>\n",
       "      <td>0</td>\n",
       "      <td>sales</td>\n",
       "      <td>medium</td>\n",
       "    </tr>\n",
       "    <tr>\n",
       "      <th>3</th>\n",
       "      <td>0.72</td>\n",
       "      <td>0.87</td>\n",
       "      <td>5</td>\n",
       "      <td>223</td>\n",
       "      <td>5</td>\n",
       "      <td>0</td>\n",
       "      <td>1</td>\n",
       "      <td>0</td>\n",
       "      <td>sales</td>\n",
       "      <td>low</td>\n",
       "    </tr>\n",
       "    <tr>\n",
       "      <th>4</th>\n",
       "      <td>0.37</td>\n",
       "      <td>0.52</td>\n",
       "      <td>2</td>\n",
       "      <td>159</td>\n",
       "      <td>3</td>\n",
       "      <td>0</td>\n",
       "      <td>1</td>\n",
       "      <td>0</td>\n",
       "      <td>sales</td>\n",
       "      <td>low</td>\n",
       "    </tr>\n",
       "  </tbody>\n",
       "</table>\n",
       "</div>"
      ],
      "text/plain": [
       "   satisfaction_level  last_evaluation  number_project  average_montly_hours  \\\n",
       "0                0.38             0.53               2                   157   \n",
       "1                0.80             0.86               5                   262   \n",
       "2                0.11             0.88               7                   272   \n",
       "3                0.72             0.87               5                   223   \n",
       "4                0.37             0.52               2                   159   \n",
       "\n",
       "   time_spend_company  Work_accident  left  promotion_last_5years  sales  \\\n",
       "0                   3              0     1                      0  sales   \n",
       "1                   6              0     1                      0  sales   \n",
       "2                   4              0     1                      0  sales   \n",
       "3                   5              0     1                      0  sales   \n",
       "4                   3              0     1                      0  sales   \n",
       "\n",
       "   salary  \n",
       "0     low  \n",
       "1  medium  \n",
       "2  medium  \n",
       "3     low  \n",
       "4     low  "
      ]
     },
     "execution_count": 94,
     "metadata": {},
     "output_type": "execute_result"
    }
   ],
   "source": [
    "df=pd.read_csv('./HR_comma_sep.csv',index_col=None)\n",
    "df.head(5)"
   ]
  },
  {
   "cell_type": "markdown",
   "metadata": {},
   "source": [
    "### Subset selection or Slicing based on Some condition "
   ]
  },
  {
   "cell_type": "code",
   "execution_count": 96,
   "metadata": {},
   "outputs": [
    {
     "data": {
      "text/plain": [
       "(82, 10)"
      ]
     },
     "execution_count": 96,
     "metadata": {},
     "output_type": "execute_result"
    }
   ],
   "source": [
    "df[(df['salary']=='high') & (df['left']==1)].shape##People who have left and having high salary"
   ]
  },
  {
   "cell_type": "code",
   "execution_count": 97,
   "metadata": {},
   "outputs": [
    {
     "data": {
      "text/html": [
       "<div>\n",
       "<style scoped>\n",
       "    .dataframe tbody tr th:only-of-type {\n",
       "        vertical-align: middle;\n",
       "    }\n",
       "\n",
       "    .dataframe tbody tr th {\n",
       "        vertical-align: top;\n",
       "    }\n",
       "\n",
       "    .dataframe thead th {\n",
       "        text-align: right;\n",
       "    }\n",
       "</style>\n",
       "<table border=\"1\" class=\"dataframe\">\n",
       "  <thead>\n",
       "    <tr style=\"text-align: right;\">\n",
       "      <th></th>\n",
       "      <th>satisfaction_level</th>\n",
       "      <th>last_evaluation</th>\n",
       "      <th>number_project</th>\n",
       "      <th>average_montly_hours</th>\n",
       "      <th>time_spend_company</th>\n",
       "      <th>Work_accident</th>\n",
       "      <th>left</th>\n",
       "      <th>promotion_last_5years</th>\n",
       "      <th>sales</th>\n",
       "      <th>salary</th>\n",
       "    </tr>\n",
       "  </thead>\n",
       "  <tbody>\n",
       "    <tr>\n",
       "      <th>0</th>\n",
       "      <td>0.38</td>\n",
       "      <td>0.53</td>\n",
       "      <td>2</td>\n",
       "      <td>157</td>\n",
       "      <td>3</td>\n",
       "      <td>0</td>\n",
       "      <td>1</td>\n",
       "      <td>0</td>\n",
       "      <td>sales</td>\n",
       "      <td>low</td>\n",
       "    </tr>\n",
       "    <tr>\n",
       "      <th>1</th>\n",
       "      <td>0.80</td>\n",
       "      <td>0.86</td>\n",
       "      <td>5</td>\n",
       "      <td>262</td>\n",
       "      <td>6</td>\n",
       "      <td>0</td>\n",
       "      <td>1</td>\n",
       "      <td>0</td>\n",
       "      <td>sales</td>\n",
       "      <td>medium</td>\n",
       "    </tr>\n",
       "    <tr>\n",
       "      <th>2</th>\n",
       "      <td>0.11</td>\n",
       "      <td>0.88</td>\n",
       "      <td>7</td>\n",
       "      <td>272</td>\n",
       "      <td>4</td>\n",
       "      <td>0</td>\n",
       "      <td>1</td>\n",
       "      <td>0</td>\n",
       "      <td>sales</td>\n",
       "      <td>medium</td>\n",
       "    </tr>\n",
       "    <tr>\n",
       "      <th>3</th>\n",
       "      <td>0.72</td>\n",
       "      <td>0.87</td>\n",
       "      <td>5</td>\n",
       "      <td>223</td>\n",
       "      <td>5</td>\n",
       "      <td>0</td>\n",
       "      <td>1</td>\n",
       "      <td>0</td>\n",
       "      <td>sales</td>\n",
       "      <td>low</td>\n",
       "    </tr>\n",
       "    <tr>\n",
       "      <th>4</th>\n",
       "      <td>0.37</td>\n",
       "      <td>0.52</td>\n",
       "      <td>2</td>\n",
       "      <td>159</td>\n",
       "      <td>3</td>\n",
       "      <td>0</td>\n",
       "      <td>1</td>\n",
       "      <td>0</td>\n",
       "      <td>sales</td>\n",
       "      <td>low</td>\n",
       "    </tr>\n",
       "  </tbody>\n",
       "</table>\n",
       "</div>"
      ],
      "text/plain": [
       "   satisfaction_level  last_evaluation  number_project  average_montly_hours  \\\n",
       "0                0.38             0.53               2                   157   \n",
       "1                0.80             0.86               5                   262   \n",
       "2                0.11             0.88               7                   272   \n",
       "3                0.72             0.87               5                   223   \n",
       "4                0.37             0.52               2                   159   \n",
       "\n",
       "   time_spend_company  Work_accident  left  promotion_last_5years  sales  \\\n",
       "0                   3              0     1                      0  sales   \n",
       "1                   6              0     1                      0  sales   \n",
       "2                   4              0     1                      0  sales   \n",
       "3                   5              0     1                      0  sales   \n",
       "4                   3              0     1                      0  sales   \n",
       "\n",
       "   salary  \n",
       "0     low  \n",
       "1  medium  \n",
       "2  medium  \n",
       "3     low  \n",
       "4     low  "
      ]
     },
     "execution_count": 97,
     "metadata": {},
     "output_type": "execute_result"
    }
   ],
   "source": [
    "df[df['salary'].isin(['medium','low']) & (df['left']==1)].head(5)###People who have left and was having low and medium salary"
   ]
  },
  {
   "cell_type": "code",
   "execution_count": 98,
   "metadata": {},
   "outputs": [
    {
     "data": {
      "text/plain": [
       "(3489, 10)"
      ]
     },
     "execution_count": 98,
     "metadata": {},
     "output_type": "execute_result"
    }
   ],
   "source": [
    "df[df['salary'].isin(['medium','low']) & df['left']==1].shape"
   ]
  },
  {
   "cell_type": "code",
   "execution_count": 99,
   "metadata": {},
   "outputs": [
    {
     "data": {
      "text/html": [
       "<div>\n",
       "<style scoped>\n",
       "    .dataframe tbody tr th:only-of-type {\n",
       "        vertical-align: middle;\n",
       "    }\n",
       "\n",
       "    .dataframe tbody tr th {\n",
       "        vertical-align: top;\n",
       "    }\n",
       "\n",
       "    .dataframe thead th {\n",
       "        text-align: right;\n",
       "    }\n",
       "</style>\n",
       "<table border=\"1\" class=\"dataframe\">\n",
       "  <thead>\n",
       "    <tr style=\"text-align: right;\">\n",
       "      <th></th>\n",
       "      <th>satisfaction_level</th>\n",
       "      <th>number_project</th>\n",
       "    </tr>\n",
       "  </thead>\n",
       "  <tbody>\n",
       "    <tr>\n",
       "      <th>2</th>\n",
       "      <td>0.11</td>\n",
       "      <td>7</td>\n",
       "    </tr>\n",
       "    <tr>\n",
       "      <th>3</th>\n",
       "      <td>0.72</td>\n",
       "      <td>5</td>\n",
       "    </tr>\n",
       "    <tr>\n",
       "      <th>4</th>\n",
       "      <td>0.37</td>\n",
       "      <td>2</td>\n",
       "    </tr>\n",
       "    <tr>\n",
       "      <th>5</th>\n",
       "      <td>0.41</td>\n",
       "      <td>2</td>\n",
       "    </tr>\n",
       "  </tbody>\n",
       "</table>\n",
       "</div>"
      ],
      "text/plain": [
       "   satisfaction_level  number_project\n",
       "2                0.11               7\n",
       "3                0.72               5\n",
       "4                0.37               2\n",
       "5                0.41               2"
      ]
     },
     "execution_count": 99,
     "metadata": {},
     "output_type": "execute_result"
    }
   ],
   "source": [
    "df.loc[2:5,['satisfaction_level','number_project']]"
   ]
  },
  {
   "cell_type": "code",
   "execution_count": 100,
   "metadata": {},
   "outputs": [
    {
     "data": {
      "text/plain": [
       "0"
      ]
     },
     "execution_count": 100,
     "metadata": {},
     "output_type": "execute_result"
    }
   ],
   "source": [
    "df.left.loc[2500]"
   ]
  },
  {
   "cell_type": "code",
   "execution_count": 101,
   "metadata": {},
   "outputs": [
    {
     "data": {
      "text/plain": [
       "(14999, 10)"
      ]
     },
     "execution_count": 101,
     "metadata": {},
     "output_type": "execute_result"
    }
   ],
   "source": [
    "df.shape"
   ]
  },
  {
   "cell_type": "code",
   "execution_count": 102,
   "metadata": {},
   "outputs": [
    {
     "data": {
      "text/plain": [
       "satisfaction_level       False\n",
       "last_evaluation          False\n",
       "number_project           False\n",
       "average_montly_hours     False\n",
       "time_spend_company       False\n",
       "Work_accident            False\n",
       "left                     False\n",
       "promotion_last_5years    False\n",
       "sales                    False\n",
       "salary                   False\n",
       "dtype: bool"
      ]
     },
     "execution_count": 102,
     "metadata": {},
     "output_type": "execute_result"
    }
   ],
   "source": [
    "df.isnull().any()"
   ]
  },
  {
   "cell_type": "code",
   "execution_count": 103,
   "metadata": {},
   "outputs": [
    {
     "name": "stdout",
     "output_type": "stream",
     "text": [
      "<class 'pandas.core.frame.DataFrame'>\n",
      "RangeIndex: 14999 entries, 0 to 14998\n",
      "Data columns (total 10 columns):\n",
      "satisfaction_level       14999 non-null float64\n",
      "last_evaluation          14999 non-null float64\n",
      "number_project           14999 non-null int64\n",
      "average_montly_hours     14999 non-null int64\n",
      "time_spend_company       14999 non-null int64\n",
      "Work_accident            14999 non-null int64\n",
      "left                     14999 non-null int64\n",
      "promotion_last_5years    14999 non-null int64\n",
      "sales                    14999 non-null object\n",
      "salary                   14999 non-null object\n",
      "dtypes: float64(2), int64(6), object(2)\n",
      "memory usage: 1.1+ MB\n"
     ]
    }
   ],
   "source": [
    "df.info()"
   ]
  },
  {
   "cell_type": "code",
   "execution_count": 104,
   "metadata": {},
   "outputs": [
    {
     "data": {
      "text/plain": [
       "0    11428\n",
       "1     3571\n",
       "Name: left, dtype: int64"
      ]
     },
     "execution_count": 104,
     "metadata": {},
     "output_type": "execute_result"
    }
   ],
   "source": [
    "df.left.value_counts()"
   ]
  },
  {
   "cell_type": "code",
   "execution_count": 105,
   "metadata": {},
   "outputs": [
    {
     "data": {
      "text/plain": [
       "salary\n",
       "high      1237\n",
       "low       7316\n",
       "medium    6446\n",
       "dtype: int64"
      ]
     },
     "execution_count": 105,
     "metadata": {},
     "output_type": "execute_result"
    }
   ],
   "source": [
    "df.groupby(['salary']).size()"
   ]
  },
  {
   "cell_type": "code",
   "execution_count": 269,
   "metadata": {},
   "outputs": [
    {
     "data": {
      "text/plain": [
       "0    11428\n",
       "1     3571\n",
       "Name: left, dtype: int64"
      ]
     },
     "execution_count": 269,
     "metadata": {},
     "output_type": "execute_result"
    }
   ],
   "source": [
    "df.left.value_counts()"
   ]
  },
  {
   "cell_type": "markdown",
   "metadata": {},
   "source": [
    "# Reasons for leaving the comapny"
   ]
  },
  {
   "cell_type": "markdown",
   "metadata": {},
   "source": [
    "# Multi-Variate Analysis of Categorical variables through Cross-Tab"
   ]
  },
  {
   "cell_type": "code",
   "execution_count": 106,
   "metadata": {},
   "outputs": [
    {
     "data": {
      "text/html": [
       "<div>\n",
       "<style scoped>\n",
       "    .dataframe tbody tr th:only-of-type {\n",
       "        vertical-align: middle;\n",
       "    }\n",
       "\n",
       "    .dataframe tbody tr th {\n",
       "        vertical-align: top;\n",
       "    }\n",
       "\n",
       "    .dataframe thead th {\n",
       "        text-align: right;\n",
       "    }\n",
       "</style>\n",
       "<table border=\"1\" class=\"dataframe\">\n",
       "  <thead>\n",
       "    <tr style=\"text-align: right;\">\n",
       "      <th>left</th>\n",
       "      <th>0</th>\n",
       "      <th>1</th>\n",
       "    </tr>\n",
       "    <tr>\n",
       "      <th>promotion_last_5years</th>\n",
       "      <th></th>\n",
       "      <th></th>\n",
       "    </tr>\n",
       "  </thead>\n",
       "  <tbody>\n",
       "    <tr>\n",
       "      <th>0</th>\n",
       "      <td>0.758038</td>\n",
       "      <td>0.241962</td>\n",
       "    </tr>\n",
       "    <tr>\n",
       "      <th>1</th>\n",
       "      <td>0.940439</td>\n",
       "      <td>0.059561</td>\n",
       "    </tr>\n",
       "  </tbody>\n",
       "</table>\n",
       "</div>"
      ],
      "text/plain": [
       "left                          0         1\n",
       "promotion_last_5years                    \n",
       "0                      0.758038  0.241962\n",
       "1                      0.940439  0.059561"
      ]
     },
     "execution_count": 106,
     "metadata": {},
     "output_type": "execute_result"
    }
   ],
   "source": [
    "pd.crosstab(df['promotion_last_5years'],df['left'],normalize='index')\n"
   ]
  },
  {
   "cell_type": "code",
   "execution_count": 107,
   "metadata": {},
   "outputs": [
    {
     "data": {
      "text/html": [
       "<div>\n",
       "<style scoped>\n",
       "    .dataframe tbody tr th:only-of-type {\n",
       "        vertical-align: middle;\n",
       "    }\n",
       "\n",
       "    .dataframe tbody tr th {\n",
       "        vertical-align: top;\n",
       "    }\n",
       "\n",
       "    .dataframe thead th {\n",
       "        text-align: right;\n",
       "    }\n",
       "</style>\n",
       "<table border=\"1\" class=\"dataframe\">\n",
       "  <thead>\n",
       "    <tr style=\"text-align: right;\">\n",
       "      <th>left</th>\n",
       "      <th>0</th>\n",
       "      <th>1</th>\n",
       "    </tr>\n",
       "    <tr>\n",
       "      <th>promotion_last_5years</th>\n",
       "      <th></th>\n",
       "      <th></th>\n",
       "    </tr>\n",
       "  </thead>\n",
       "  <tbody>\n",
       "    <tr>\n",
       "      <th>0</th>\n",
       "      <td>0.758038</td>\n",
       "      <td>0.241962</td>\n",
       "    </tr>\n",
       "    <tr>\n",
       "      <th>1</th>\n",
       "      <td>0.940439</td>\n",
       "      <td>0.059561</td>\n",
       "    </tr>\n",
       "  </tbody>\n",
       "</table>\n",
       "</div>"
      ],
      "text/plain": [
       "left                          0         1\n",
       "promotion_last_5years                    \n",
       "0                      0.758038  0.241962\n",
       "1                      0.940439  0.059561"
      ]
     },
     "execution_count": 107,
     "metadata": {},
     "output_type": "execute_result"
    }
   ],
   "source": [
    "pd.crosstab(df['promotion_last_5years'],df['left'],normalize='index')"
   ]
  },
  {
   "cell_type": "markdown",
   "metadata": {},
   "source": [
    "#### So in both the vases we observed that,the People who have not got promotion since last 5 years are more likely to leave the company"
   ]
  },
  {
   "cell_type": "code",
   "execution_count": 108,
   "metadata": {},
   "outputs": [
    {
     "data": {
      "text/plain": [
       "Index(['satisfaction_level', 'last_evaluation', 'number_project',\n",
       "       'average_montly_hours', 'time_spend_company', 'Work_accident', 'left',\n",
       "       'promotion_last_5years', 'sales', 'salary'],\n",
       "      dtype='object')"
      ]
     },
     "execution_count": 108,
     "metadata": {},
     "output_type": "execute_result"
    }
   ],
   "source": [
    "df.columns"
   ]
  },
  {
   "cell_type": "code",
   "execution_count": 109,
   "metadata": {},
   "outputs": [
    {
     "data": {
      "text/html": [
       "<div>\n",
       "<style scoped>\n",
       "    .dataframe tbody tr th:only-of-type {\n",
       "        vertical-align: middle;\n",
       "    }\n",
       "\n",
       "    .dataframe tbody tr th {\n",
       "        vertical-align: top;\n",
       "    }\n",
       "\n",
       "    .dataframe thead th {\n",
       "        text-align: right;\n",
       "    }\n",
       "</style>\n",
       "<table border=\"1\" class=\"dataframe\">\n",
       "  <thead>\n",
       "    <tr style=\"text-align: right;\">\n",
       "      <th>left</th>\n",
       "      <th>0</th>\n",
       "      <th>1</th>\n",
       "    </tr>\n",
       "    <tr>\n",
       "      <th>time_spend_company</th>\n",
       "      <th></th>\n",
       "      <th></th>\n",
       "    </tr>\n",
       "  </thead>\n",
       "  <tbody>\n",
       "    <tr>\n",
       "      <th>2</th>\n",
       "      <td>0.983662</td>\n",
       "      <td>0.016338</td>\n",
       "    </tr>\n",
       "    <tr>\n",
       "      <th>3</th>\n",
       "      <td>0.753841</td>\n",
       "      <td>0.246159</td>\n",
       "    </tr>\n",
       "    <tr>\n",
       "      <th>4</th>\n",
       "      <td>0.651936</td>\n",
       "      <td>0.348064</td>\n",
       "    </tr>\n",
       "    <tr>\n",
       "      <th>5</th>\n",
       "      <td>0.434487</td>\n",
       "      <td>0.565513</td>\n",
       "    </tr>\n",
       "    <tr>\n",
       "      <th>6</th>\n",
       "      <td>0.708914</td>\n",
       "      <td>0.291086</td>\n",
       "    </tr>\n",
       "    <tr>\n",
       "      <th>7</th>\n",
       "      <td>1.000000</td>\n",
       "      <td>0.000000</td>\n",
       "    </tr>\n",
       "    <tr>\n",
       "      <th>8</th>\n",
       "      <td>1.000000</td>\n",
       "      <td>0.000000</td>\n",
       "    </tr>\n",
       "    <tr>\n",
       "      <th>10</th>\n",
       "      <td>1.000000</td>\n",
       "      <td>0.000000</td>\n",
       "    </tr>\n",
       "  </tbody>\n",
       "</table>\n",
       "</div>"
      ],
      "text/plain": [
       "left                       0         1\n",
       "time_spend_company                    \n",
       "2                   0.983662  0.016338\n",
       "3                   0.753841  0.246159\n",
       "4                   0.651936  0.348064\n",
       "5                   0.434487  0.565513\n",
       "6                   0.708914  0.291086\n",
       "7                   1.000000  0.000000\n",
       "8                   1.000000  0.000000\n",
       "10                  1.000000  0.000000"
      ]
     },
     "execution_count": 109,
     "metadata": {},
     "output_type": "execute_result"
    }
   ],
   "source": [
    "pd.crosstab(df['time_spend_company'],df['left'],normalize='index')"
   ]
  },
  {
   "cell_type": "markdown",
   "metadata": {},
   "source": [
    "###APeople having experience more than 5 years of experience are more likely to leave the organisation"
   ]
  },
  {
   "cell_type": "code",
   "execution_count": 110,
   "metadata": {},
   "outputs": [
    {
     "data": {
      "text/html": [
       "<div>\n",
       "<style scoped>\n",
       "    .dataframe tbody tr th:only-of-type {\n",
       "        vertical-align: middle;\n",
       "    }\n",
       "\n",
       "    .dataframe tbody tr th {\n",
       "        vertical-align: top;\n",
       "    }\n",
       "\n",
       "    .dataframe thead th {\n",
       "        text-align: right;\n",
       "    }\n",
       "</style>\n",
       "<table border=\"1\" class=\"dataframe\">\n",
       "  <thead>\n",
       "    <tr style=\"text-align: right;\">\n",
       "      <th>left</th>\n",
       "      <th>0</th>\n",
       "      <th>1</th>\n",
       "    </tr>\n",
       "    <tr>\n",
       "      <th>salary</th>\n",
       "      <th></th>\n",
       "      <th></th>\n",
       "    </tr>\n",
       "  </thead>\n",
       "  <tbody>\n",
       "    <tr>\n",
       "      <th>high</th>\n",
       "      <td>0.933711</td>\n",
       "      <td>0.066289</td>\n",
       "    </tr>\n",
       "    <tr>\n",
       "      <th>low</th>\n",
       "      <td>0.703116</td>\n",
       "      <td>0.296884</td>\n",
       "    </tr>\n",
       "    <tr>\n",
       "      <th>medium</th>\n",
       "      <td>0.795687</td>\n",
       "      <td>0.204313</td>\n",
       "    </tr>\n",
       "  </tbody>\n",
       "</table>\n",
       "</div>"
      ],
      "text/plain": [
       "left           0         1\n",
       "salary                    \n",
       "high    0.933711  0.066289\n",
       "low     0.703116  0.296884\n",
       "medium  0.795687  0.204313"
      ]
     },
     "execution_count": 110,
     "metadata": {},
     "output_type": "execute_result"
    }
   ],
   "source": [
    "pd.crosstab(df['salary'],df['left'],normalize='index')"
   ]
  },
  {
   "cell_type": "markdown",
   "metadata": {},
   "source": [
    "#### Low and medium salary people are more likely to leave the company"
   ]
  },
  {
   "cell_type": "markdown",
   "metadata": {},
   "source": [
    "# Visualization showing the count of people who left"
   ]
  },
  {
   "cell_type": "code",
   "execution_count": 111,
   "metadata": {},
   "outputs": [
    {
     "name": "stdout",
     "output_type": "stream",
     "text": [
      "['number_project', 'time_spend_company', 'Work_accident', 'promotion_last_5years', 'sales', 'salary']\n",
      "6\n"
     ]
    }
   ],
   "source": [
    "categorical=['number_project','time_spend_company','Work_accident','promotion_last_5years','sales','salary'] # here I have removed left to see who is leaving cpmpany\n",
    "length=len(categorical) # no of categorical and ordinal variable\n",
    "print(categorical)\n",
    "print(length)"
   ]
  },
  {
   "cell_type": "code",
   "execution_count": 112,
   "metadata": {},
   "outputs": [
    {
     "data": {
      "image/png": "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\n",
      "text/plain": [
       "<Figure size 1080x864 with 6 Axes>"
      ]
     },
     "metadata": {
      "needs_background": "light"
     },
     "output_type": "display_data"
    }
   ],
   "source": [
    "fig=plt.subplots(figsize=(15,12))# to define the size of figure\n",
    "for index,item in enumerate(categorical):\n",
    "    plt.subplot(np.ceil(length/2),2,index+1)###Craeting subplots in a mainplot.i,e 3 rows of graphs will be there in 2 columns and in 1 main graph\n",
    "    plt.subplots_adjust(hspace=0.5)\n",
    "    sns.countplot(x=item,data=df,hue='left')### To plot the countplot of variable with hue left\n",
    "    plt.xticks(rotation=90)### to rotate the x-axis labels by 90 degree such that no labels overlap each other\n",
    "    plt.title(\"People Who left\")\n",
    "    \n",
    "    "
   ]
  },
  {
   "cell_type": "code",
   "execution_count": 113,
   "metadata": {},
   "outputs": [
    {
     "name": "stdout",
     "output_type": "stream",
     "text": [
      "number_project 0\n",
      "time_spend_company 1\n",
      "Work_accident 2\n",
      "promotion_last_5years 3\n",
      "sales 4\n",
      "salary 5\n"
     ]
    },
    {
     "data": {
      "image/png": "iVBORw0KGgoAAAANSUhEUgAAA4kAAAL4CAYAAADWJ7KFAAAABHNCSVQICAgIfAhkiAAAAAlwSFlzAAALEgAACxIB0t1+/AAAADl0RVh0U29mdHdhcmUAbWF0cGxvdGxpYiB2ZXJzaW9uIDMuMC4yLCBodHRwOi8vbWF0cGxvdGxpYi5vcmcvOIA7rQAAIABJREFUeJzs3XmYnXV5+P/3LEkmJQshmUgogiDlRloFwmJbFLBSFBWxPwUKYZMvYH6ISxWDFahitWpqUaliLSGihijK0kpNLG0UiFCqgKBCvYsaWSR+E0Igi2SZzHz/eJ45DCHLLGeZM/N+XRdXzvmcz/Oc+5mQc899ns/S0tPTgyRJkiRJAK2NDkCSJEmSNHxYJEqSJEmSKiwSJUmSJEkVFomSJEmSpAqLREmSJElShUWiJEmSJKnCIlGSJEmSVGGRKEmSJEmqsEiUJEmSJFVYJEqSJEmSKtobHUANjQMOB5YDWxociySpttqAGcCPgI0NjqUZmCMlaXQYVH4cyUXi4cDSRgchSaqrVwM/aHQQOxMR3wemA5vLpncALwUuBcYAn83ML5R9jwWuAMYD12fmpWX7wcA8YBJwBzA7M7v6GYI5UpJGlwHlx5FcJC4HWL16Pd3dPY2ORZJUQ62tLUyZsguUn/3DWUS0APsDe/cWdRHx+8A3gEMpvum9qywklwHzgaOBx4DvRMTxmbkYWACcm5l3R8Q1wHnAF/sZhjlSkkaBwebHkVwkbgHo7u4xAUrS6NEMQyej/PPWiJgKXA2sBb6XmU8BRMQNwNuA24GHM3NZ2b4AOCkiHgLGZ+bd5bmuBS6n/0WiOVKSRpcB5UcXrpEkqb6mAEuAvwBeC8wG9uL53/IuB/YE9hhguyRJQ1bzO4kR8WlgWmaevb35ExGxF8WwmelAArMyc11E7ApcB+wLrAROzszf1jpmSZJqJTP/C/iv3uflUNErgI/16dYCdFN8mdszgPYBmTp1wkAPkSSNAjUtEiPitcBZwHfKpu3Nn7gKuCozvxERlwGXARdTJMylmfnGiDgD+BxwSi1jliSpliLiVcC4zFxSNrUAv6ZYfa7X7sATwOMDbB+QVavWOdxUkkaw1taWQX0hWLMiMSJ2Az4O/B1wUETszTbmT0TEPOAo4C192m+nKBLfWL4G8HXgCxExJjN7V4MblC1buli9eiVdXZuGcpq6aW1tY/z4CUyYMJmWlpZGhyNJGppdgY9GxJ9SrGR6FnA6sCAiOoH1wFuB84GfABER+1EsYnMaMD8zH4mIDRFxZGbeCZwBLB5qYD09Paxb9wzPPruO7u5mmN4J7e1jmTKlk7a2kbzMgiTVVy0/Ub8EXAK8uHy+vfkT04A1fZbt7juvonJMOSx1DdDJIL4t7Wv16pV0dPweu+yy+7Avunp6etiypYu1a59m9eqV7Lbb9EaHJEkagsz8t4h4JfBjiv2rvpCZd0bEJcD3gbHAvMz8IUBEnA3cCHQAi4AbylPNAq6OiEnAfcCVQ41t9eqVtLS0sNtuL6Ktrb0pcuT69WtYvXol06bN2PkBkqR+qUmRGBHnAo9l5pIyuUH/51XAc/Mqts5OA55zsa3bqytWPMbkybsO++TXa8yYNsaN6+S3v32Mzs6JQz7fps1bGDumrQqRNfY9JKlZZWbv1Iq+bQuBhdvouwQ4aBvtDwBHVDOuTZs28KIX7UlLS3Osa9fS0sIuu0xi3bqnmTipg45xY6py3g0bN7N2zYaqnEuSmlGt7iSeAsyIiPuB3YAJFIXgtuZPrAAmR0RbZm4p+/TeKfxN2e/xiGgHJgKrBhLItuZbdHd3s2VLDy+sTYe3LVu6Wbly7ZDP09k5kdPmXFeFiLZv4dxZVYm12qr5S8SO+AuGVF+DnXOhrfU0TYHYq/cL345xY6qW2xbOncVa/AyXNHrVpEjMzD/vfVzeSTwmM98eET/bev5EZm6OiKUUheVC4Eyem1exqHz+d+XrS4c6H1GjWzV/idgRf8GQJElSs6r314WzgM9ExM8p7i72zp+4ADi/3Bz41cClZftlwB9HxINln3fWOd7tWrToFj7/+c9u87W1a9fy9refxjnnzOKhh37G17725TpHJ0lSY5gfJan51XwpsMy8lmLF0u3On8jMR4BjttH+FPDmmgZYA7/85cNMn/4iPvWpz7Bo0S0888wzjQ5JkqSGMz9KUnNwveghuv327/PVr86nq6uLo446htNPP4tPfOKjPPPM03z605/krruWsmnTJl760v04/vg3NTpcSZLqwvwoSc3LInEI1qx5hm996+t88YvX0N7eziWXzOHBB3/GxRdfyk03fZOLLvogixb9Ib/61S9NgJKkUcP8KEnNzSJxCH7xi4dZseK3nH/+2QBs2PAsy5b9in322bexgUmS1EDmR0lqbhaJQ7B+/Tr+9E9fzYc+9GGg+OZ03LhxPPjgzxocmSRJjWN+lKTm1lybIQ0zBx10CPfc80OeemoVXV1dfOAD7+WnP/3J8/q0tbWxZcuWBkUoSVL9mR8lqblZJA7BpEmTmT37Qt773gs466y/ZObMwzjssOcv3nrAAQdy5513cPPNNzQoSkmS6sv8KEnNzeGmg/SGN5xQeXzcccc/77WZMw9j5szDANh775fwzW/+a11jkySpUcyPktT8vJMoSZIkSaqwSJQkSZIkVVgkSpIkSZIqLBIlSZIkSRUWiZIkSZKkCotESZIkSVKFW2AAEyd10DFuTNXPu2HjZtau2VD180qSVC/mSEkafSwSgY5xYzhtznVVP+/CubNYS/8S4K23fpevfvUaurq6OOmkU3nrW0+uejySJA1Uo3Ok+VGS6s8icRhYuXIFV199Fddc8zXGjBnL7NnnMHPmYeyzz76NDk2SpIYxP0pSYzgncRi4554fMnPmYUyaNJnx48fzmte8lttuW9LosCRJaijzoyQ1hkXiMPDkkyuZOnVa5fnUqdNYsWJFAyOSJKnxzI+S1BgWicNAd3c3LS0tlec9PT20trbs4AhJkkY+86MkNYZzEoeB6dNfxAMP/Ljy/KmnVjFtWmcDI5Ik1UNEfBqYlplnR8TBwDxgEnAHMDszuyJiL2ABMB1IYFZmrouIXYHrgH2BlcDJmfnbhlxIjZgfJakxvJM4DBx22BHce++PWL16NRs2bOC2277HK1/5J40OS5JUQxHxWuCsPk0LgAszc3+gBTivbL8KuCozDwDuAS4r2z8GLM3MlwFXA5+rS+B1ZH6UpMbwTiLFXk0L586qyXn7o7NzOueddwHvfvc72Ly5ixNOOJEDD/yjqscjSRoeImI34OPA3wEHRcTewPjMvLvsci1weUTMA44C3tKn/XbgYuCN5WsAXwe+EBFjMrN/yaefGpkjzY+S1BgWicDaNRv6vZ9hrRx33Os57rjXNzQGSVLdfAm4BHhx+XwPYHmf15cDewLTgDWZ2bVV+/OOKYelrgE6gSeqGWijc6T5UZLqzyJRkqQ6iohzgccyc0lEnF02twI9fbq1AN3baKds7+3TV0uf1/pl6tQJz3u+YkUr7e3NNxOltbX6MXd2Tqz6OSWpWVgkSpJUX6cAMyLifmA3YAJFITijT5/dKe4IrgAmR0RbZm4p+/TeKfxN2e/xiGgHJgKrBhLIqlXr6O5+rgbt7u6mq2tAdeaw0N1d/ZhXrlxb9XNKUr21tra84AvBfh1Xg1gkSdJ2ZOafZ+YfZebBwN8A387MtwMbIuLIstsZwOJyfuFSisIS4Exgcfl4Ufmc8vWl1Z6PKEkanbyTKEnS8DALuDoiJgH3AVeW7RcAX4mIS4FHgVPL9suAayPiQeDp8nhJkobMIlGSpAbJzGspViwlMx8AjthGn0eAY7bR/hTw5poGKEkalRxuKkmSJEmq8E4iMGXyWNrHjqv6ebs2bWT1M5v61Xf9+nXMnn0Oc+d+lhkz9qh6LJIkDYY5UpJGn5oWiRHxUeBtFKu2XZOZV0TEscAVwHjg+sy8tOx7MDAPmATcAcwu933aC1gATAcSmJWZ66oZZ/vYcdw799xqnhKAQ+fMA3aeAB988GfMnfsxHnvs0arHIEnSUJgjJWn0qdlw04g4Gvgz4BXAYcC7IuIgYD5wIvAy4PCIOL48ZAFwYWbuT7HX03ll+1XAVZl5AHAPxUT9EeWWW27mfe+7mGnTOhsdiiRJw4o5UpLqr2ZFYmbeDrwmM7so7gK2A7sCD2fmsrJ9AXBSROwNjM/Mu8vDry3bxwBHATf0ba9VzI3ywQ9exkEHHdLoMCRJGnbMkZJUfzVduCYzN0fE5cBDwBJgD2B5ny7LgT130D4NWFMWlH3bJUmSJEk1UPOFazLzwxHxKeAWYH+K+Ym9WoBuimK1P+2U7f02deqEF7StWNFKe3t9FnYd6Pu0tW0/ttbWVjo7J1YjrLpoplhrYbRfvyRJkppTzYrEiDgA6MjM+zPzdxFxE8UiNlv6dNsdeAJ4HJixjfYVwOSIaMvMLWWfJwYSx6pV6+jufn6d2d3dTVfXgGrNQRvo+2zZsv3Yuru7Wbly7ZBjqlfxUo1Yq62ehdtwvH5ppGptbdnml4KSJGngankncV/g8oh4FcXdwBOBLwF/HxH7AcuA04D5mflIRGyIiCMz807gDGBxOVx1KXAKsBA4E1hc7UC7Nm0sV1mr/nklSWpm5khJGn1qViRm5qKIOAL4McXdwxsz8xsRsRK4EegAFvHcojSzgKsjYhJwH3Bl2X4B8JWIuBR4FDi12rEW+zT1b6+mWrrhhlsaHYIkSc9jjpSk0aemcxIz8yPAR7ZqWwIctI2+DwBHbKP9EeCYmgQoSZIkSXqe+qzeIkmSJElqChaJkiRJkqSKUVsk9vRsvbPG8NbT002xM4gkSbXSUuab5tFs+VySmsGoLBLb28eyfv2apkgsPT09dHVt5umnn2Ts2I5GhyNJGsHGju3g6aefpKtrc9PkyPXr19DePrbRoUjSiFLThWuGqylTOlm9eiXr1j3d6FD6pbW1jfHjJzBhwuRGhyJJGsGmTOlk3bpneOqp/0t395adHzAMtLePZcqUzkaHIUkjyqgsEtva2pk2bUajw5AkaVhpaWlh4sRdmThx10aHIklqoFE53FSSJEmStG0WiZIkSZKkCotESZIkSVKFRaIkSZIkqWJULlwjSZJeaOKkDjrGjanKuTZs3MzaNRuqci5JUn1ZJEqSJAA6xo3htDnXVeVcC+fOYi0WiZLUjCwSJUmqs4j4KPA2oAe4JjOviIhjgSuA8cD1mXlp2fdgYB4wCbgDmJ2ZXRGxF7AAmA4kMCsz19X/aiRJI41zEiVJqqOIOBr4M+AVwGHAuyLiIGA+cCLwMuDwiDi+PGQBcGFm7g+0AOeV7VcBV2XmAcA9wGX1uwpJ0khmkShJUh1l5u3AazKzi+IuYDuwK/BwZi4r2xcAJ0XE3sD4zLy7PPzasn0McBRwQ9/2+l2FJGkks0iUJKnOMnNzRFwOPAQsAfYAlvfpshzYcwft04A1ZUHZt12SpCFzTqIkSQ2QmR+OiE8BtwD7U8xP7NUCdFN8mdufdsr2AZk6dcJADxmQzs6JNT1/LTVz7JI0VP0qEiPi9zPzN1u1HZiZD9UmLEmShr/B5MeIOADoyMz7M/N3EXETxSI2W/p02x14AngcmLGN9hXA5Ihoy8wtZZ8nBhr/qlXr6O5+rtasdmG0cuXaqp5vR5o5dkmqldbWlkF9IbjDIjEidisfLoqIYyi+wQQYA9wEHDDgd5QkqckNMT/uC1weEa+iuBt4IvAl4O8jYj9gGXAaMD8zH4mIDRFxZGbeCZwBLC6Hqy4FTgEWAmcCi6t6kZKkUWtncxK/DjwJvBxYVT5+EngMuK+2oUmSNGwNOj9m5iLgO8CPgXuBuzLzG8DZwI0U8xR/znOL0swCPhMRPwcmAFeW7RcA50fEQ8CrgUurdG2SpFFuh3cSM/N1ABExPzPPqU9IkiQNb0PNj5n5EeAjW7UtAQ7aRt8HgCO20f4IcMxA31uSpJ3p15zEzDynXIZ7N54bUkNmejdRkjRqmR8lSSNRfxeuuRz4AMVE+d4Z7j0U8yokSRqVzI+SpJGov1tgnAnsl5kDXjlNkqQRzPwoSRpxdrZwTa/HTICSJL2A+VGSNOL0907ikoiYC/wr8Gxvo3MuJEmjnPlRkjTi9LdIPLv886Q+bc65kCSNdmeXf5ofJUkjRn9XN92n1oFIktRszI+SpJGov6ubvm9b7Zl5RXXDkVRLEyd10DFuTE3fY8PGzaxds6Gm7yENF+ZHSdJI1N/hpi/v83gscDSwpPrhSKqljnFjOG3OdTV9j4VzZ7EWi0SNGuZHSdKI09/hpm/v+zwi9gCu2dlxEfFh4OTy6Xcyc05EHAtcAYwHrs/MS8u+BwPzgEnAHcDszOyKiL2ABcB0IIFZmbmuP3FLklRLg82PkiQNZ/3dAuN5yuW+X7KjPmUxeBxwCHAwcGhEnArMB04EXgYcHhHHl4csAC7MzP2BFuC8sv0q4KrMPAC4B7hsMDFLklRr/cmPkiQNd4OZk9gCHAas2Mlhy4H3Z+am8hz/A+wPPJyZy8q2BcBJEfEQMD4z7y6PvRa4PCLmAUcBb+nTfjtwcX/iliSplgaZHyVJGtYGMyexB3gU+MCODsjMB3sfR8QfUAw7/UeK4rHXcmBPYI/ttE8D1mRm11btkiQNBwPOj5IkDXcDmpMYEXsDYzLzF/19g4j4Q+A7FEmzi+JuYq8WoJti2GtPP9op2/tt6tQJA+muKursnNjoEBpqNF//aL52jS5DyY+SJA1X/R1uuh/wrxR3/Foj4kngTZn5Pzs57kjgRuC9mfmNiDgamNGny+7AE8Dj22lfAUyOiLbM3FL2eaJfV1ZatWod3d1b15mjW71+gV+5cm1d3mcg6lm8jObrH47XrpGttbWlIV8KDjY/SpI0nPV34ZrPA3Mzc0pmTgY+BnxhRwdExIuBfwFOy8xvlM3/XbwU+0VEG3AasDgzHwE2lEUlwBll+2ZgKXBK2X4msLifMUuSVGsDzo+SJA13/S0SX5SZX+l9kplfBjp3csxFQAdwRUTcHxH3A2eX/90IPAT8HLih7D8L+ExE/ByYAFxZtl8AnF8ubvNq4NJ+xixJUq0NJj9KkjSs9XfhmvaI2C0znwKIiGm8cK7g82Tme4D3bOflg7bR/wHgiG20PwIc0884JUmqpwHnR0mShrv+Fon/CNwdEddTJL+/BD5Ts6gkSWoO5kdJ0ojT3+GmiyiS31jgQOD3gZtrFZQkSU3C/ChJGnH6WyReC3whMy8GTgcuAebXKihJkprEtZgfJUkjTH+LxGmZeSVAZm7IzM/y/C0rJEkajcyPkqQRp79FYntE7NH7JCJeRLHhvSRJo5n5UZI04vR34ZorgPsj4rsUcy+OBT5Qs6gkSWoOg8qPEfFh4OTy6Xcyc05EHFuebzxwfWZeWvY9GJgHTALuAGZnZldE7AUsAKYDCczKzHVVvTpJ0qjUrzuJmTmfIvH9GLgHeF1mLqxlYJIkDXeDyY9lMXgccAhwMHBoRJxKMZfxROBlwOERcXx5yALgwszcn+Iu5Xll+1XAVZl5QPnel1Xz2iRJo1d/7ySSmT8BflLDWCRJajqDyI/Lgfdn5iaAiPgfYH/g4cxcVrYtAE6KiIeA8Zl5d3nstcDlETEPOAp4S5/224GLh3Y1kiQNoEiUJElDl5kP9j6OiD+gGHb6jxTFY6/lwJ7AHttpnwasycyurdolSRoyi0RJkhogIv4Q+A7FHMYuiruJvVqAboppIT39aKdsH5CpUycM9JAB6eycWNPz11Izxy5JQ2WRKElSnUXEkcCNwHsz8xsRcTTP3zpjd+AJ4PHttK8AJkdEW2ZuKfs8MdA4Vq1aR3f3c7VmtQujlSvXVvV8O9LMsUtSrbS2tgzqC0GLxBqaMnks7WPH1fQ9ujZtZPUzm2r6HpKk6omIFwP/ApySmd8rm/+7eCn2A5YBpwHzM/ORiNgQEUdm5p3AGcDizNwcEUuBU4CFwJnA4rpfjCRpRLJIrKH2seO4d+65NX2PQ+fMAywSJamJXAR0AFdERG/bPwFnU9xd7AAWATeUr80Cro6IScB9wJVl+wXAVyLiUuBR4NR6BC9JGvksEiVJqqPMfA/wnu28fNA2+j8AHLGN9keAY6oanCRJ9HOfREmSJEnS6GCRKEmSJEmqsEiUJEmSJFVYJEqSJEmSKiwSJUmSJEkVrm4qSZLUYBMnddAxbkxVzrVh42bWrtlQlXNJGp0sEiVJkhqsY9wYTptzXVXOtXDuLNZikShp8BxuKkmSJEmq8E6iJElSH91dm+nsnFiVc3Vt2sjqZzZV5VySVC8WiZIkSX20to/h3rnnVuVch86ZB1gkSmouDjeVJEmSJFVYJEqSJEmSKiwSJUmSJEkVFomSJEmSpAqLREmSJElShUWiJEmSJKmi5ltgRMQk4C7gTZn564g4FrgCGA9cn5mXlv0OBuYBk4A7gNmZ2RURewELgOlAArMyc12t45YkSZKk0aimdxIj4pXAD4D9y+fjgfnAicDLgMMj4viy+wLgwszcH2gBzivbrwKuyswDgHuAy2oZsyRJkiSNZrUebnoe8E7gifL5EcDDmbksM7soCsOTImJvYHxm3l32u7ZsHwMcBdzQt73GMUuSJEnSqFXT4aaZeS5ARPQ27QEs79NlObDnDtqnAWvKgrJvuyRJkiSpBmo+J3ErrUBPn+ctQPcA2inb+23q1AkDj7LJdHZObHQI2zRc46qX0Xz9o/naJUmSml29i8THgRl9nu9OMRR1e+0rgMkR0ZaZW8o+TzAAq1ato7t76zqzPur1i/LKlWsH1H+4xlUP9SxeRvP1D8dr18jW2toyKr4UlCSpHuq9BcZ/AxER+0VEG3AasDgzHwE2RMSRZb8zyvbNwFLglLL9TGBxnWOWJEmSpFGjrncSM3NDRJwN3Ah0AIt4blGaWcDV5ZYZ9wFXlu0XAF+JiEuBR4FT6xmzJEm14BZRkqThqi5FYma+pM/jJcBB2+jzAMXqp1u3PwIcU8PwJEmqq3KLqKt54RZRRwOPAd+JiOMzczFFIXhuZt4dEddQrBz+RZ7bIuobEXEZxRZRF9f/aiRJI029h5tKkiS3iJIkDWP1XrhGkqRRzy2iJEnD2agtEidO6qBj3JhGhyFJEjRgiyio/TZRbodTaMTPwZ+9pKEYtUVix7gxnDbnupq+x8K5s2p6fknSiFH3LaLghdtEVbuwqOd2OMO5KOrPz6GZf/aShq/BbhHlnERJkhrPLaIkScPGqL2TKEnScOEWUaqm7q7NVbsz2bVpI6uf2VSVc0lqHhaJkiQ1iFtEqRZa28dw79xzq3KuQ+fMAywSpdHGIlGSJEnDwpTJY2kfO64q5/IuqDR4FomSVEXV/AVne/zFR9JI1T52nHdBpWHAIlGSqqiav+Bsj7/4SJKkWrJIlFRV1VwwYUe8myZJklQbFomSqqqaCybsiHfTJEmSasN9EiVJkiRJFd5JlDQqTJzUQce4MY0OQ5JGHD9fpZHHIlHSqNAxbgynzbmu5u+zcO6smr+HJA0n1fx89TNUGh4cbipJkiRJqrBIlCRJkiRVONxUkiRJo1Y151Ru2LiZtWs2VOVcUiNZJEo1UI+9At0nUJKkoav2nMq1WCSq+VkkSjVQj70C3SdQkiRJteCcREmSJElShUWiJEmSJKnCIlGSJEmSVGGRKEmSJEmqcOEaSVJVTJk8lvax42r6Hq7qK0lS7VkkSpKqon3sOFf1lSRpBHC4qSRJkiSpwjuJkiRJUhV0d22ms3NiVc7l8Prhb+KkDjrGjanKuTZs3MzaNRuqcq5qsEiUJEmSqqC1fUzVht33Z3h9sxcpzR5/x7gxnDbnuqqca+HcWazFIlGSJEnSEDR7kdLs8Y9kTVEkRsRpwKXAGOCzmfmFBockSdKwYI6UJFXbsC8SI+L3gY8DhwIbgbsi4vuZ+VBjI9OOVHNM/o44Xl/SaGaOlCTVwrAvEoFjge9l5lMAEXED8Dbgow2NSjtUzTH5O+Jy+JJGuWGbI13AQ5KaVzMUiXsAy/s8Xw4c0Y/j2gBaW1u222HalF2GFFh/jJ00tebvsaNr3J6Rcu0w8Ouvx7WDf/f14N/98NOoa+/T1lbzAIaXqufIav07aW0fw0//6eKqnOvlsz9Fa+vmnfar5r/xav6/3N9/r80cfzPHDs0dfzVjb0RuMf7n1CL+webHlp6enqoHU00RcQnQkZmXlc/PAw7NzNk7OfRVwNJaxydJGlZeDfyg0UHUizlSktRPA8qPzXAn8XGKi+q1O/BEP477UXnccmBLDeKSJA0fbcAMis/+0cQcKUnakUHlx2a4k/j7FFXvEcB64C7g/Mz8YUMDkySpwcyRkqRaaG10ADuTmb8BLgG+D9wPLDT5SZJkjpQk1cawv5MoSZIkSaqfYX8nUZIkSZJUPxaJkiRJkqQKi0RJkiRJUoVFoiRJkiSpwiJRkiRJklRhkShJkiRJqrBIrJKIODEi3hURL92q/fxGxVRPEfEHEbFH+fjciLgyIk5udFyNEBH/0OgY6iUiDu/z+LUR8Q8R8cmIeGUj46qXiHhdROxaPj4zIj4fEW9vdFz1UP4bn9LoODQ8NHsOHEk5rJlyULPnkGbOAc3+GR4RfxYRf1I+fn9E3BIRfxMRYxsd20jhPolVEBGfBA4D/gc4CbgoMxeUr92XmTMbGV+tRcRfAe8C2oAlwF7ATcCJwA8y828bGF5NRcT8bTS/Gfg2QGaeU9+I6qv3/++IeCcwG7gGaAHOAuZl5ucbGmANRcRngUOAU4B3Aq8EbgaOB5Zl5nsaGF7NRcTTwP8F/jozb2p0PGqcZs+BzZzDmj0HNXMOafYc0Myf4RExFzgKGAMsA7qBa4ETgPbMPK9x0Y0c7Y0OYIR4I3BIZnZFxJXArRGxMTO/RfFhN9KdAxwIvAh4EJiWmRsiYh7wI2DYJtgqeAo4E/g48HTZ9lrg9oZF1BjnAcdk5iqAPn/3wzbBV8GfA6/IzC0R8UbgTzJzY0T8M/CzBsdWD8uAWcAXI+Ji4Arg25n5bGPDUgM0ew5s5hw2UnJQM+aQZs8BzfwZfjxwEDAOeBTYIzM3R8Ri4P6GRjbJA1u8AAAgAElEQVQAEfE6ii/W9qQodJ8AFmfmjQ0NrORw0+poAXoAMvNh4E3A5yLimN72Ea4V2JiZjwCfzswNfV4b0V9EZOZFwKnAXwKPZOZXgKcy8yvl45FuTES0AquAjX3aN1F84I1kvwOml48fA3YpH+8CdDUkovrqycyHMvNo4BLgrcCyiLgjIhY2ODbVV7PnwKbNYSMgBzVzDmn2HNDMn+EtwGRgGsXPe1LZPh5oiuGmEfFR4K+A24C/pyjSbwP+T0R8unGRPccisTq+BdwWEUcAZOaDFN8MfBN46Y4OHCFuBG6PiLbM/AhARBwE/AC4vpGB1UNmLqH4Jv2C8h92W4NDqqcnKb7FC8pvfCPiz4A7Kf5djGQfBX5U/p0vo/g38BngbqBp5gQNQeUOUWb+Z2aeDLyYIund3LCo1AjNngObOoc1eQ5q5hzS7DmgmT/DPwn8AngAmAP8RzkE9QfAtoZgD0enAG/IzAWZuaT8O1hAMWT2jQ2ODXBOYtVExGuBJzLzf/q0vRh4f2a+t3GR1UdEHJWZd/R5HsC+mbm4gWHVXUScC5ycmcc1OpZ6Kv++p2Tm3RFxJLBrZn6n0XHVWkTsA/wFsB/FHYffAv+WmT9saGB1EBH/JzOvaXQcGh6aPQeOlBzWrDmoWXNIM+eAZv8Mj4jxQFtmrouIlwOvAx7IzP9ocGj9EhEPACdk5qNbte8L3JSZBzcmsudYJEqSJElSnUTEsRQLNf0vsJxiaP4ewP7A2Zn5/QaGB1gkSpIkSVJdRUQHcARFcdgKPA78d2Zu3OGBdWKRKEmSJEl1EhF77ej1rYehNsKwXrVLGm0i4tfA2zLzngaHsl3lily/yMyvDvL4W4HTMvPJ6kYmSZLUFL4D/AHFthdbbxXUA+xb94i2YpEoaUAy82+GeIo/r0ogkiRJzelIYClwQWbe2ehgtsXhptIAlXt/fRz4FfBHwBjgHRSbAf8sMz9d9ru293l5h3Ah8GfAFGAuxQfEocBm4M2Z+UTZ7/s8t0nsP2Tm/PJ8JwCXUuwB9Dvgosz8r4j4CPAnFGPaH8jM03cQ+6+Br1MUaruW5/9ieU2fA9YDE4DDgbOAdwNbgP8LXJiZ/7vVdb2sPG4qxbLrV/aJ9xzg/eXxT5bn+yhwNsVGw2/IzMf69UOXJEkaQcptg87NzPMbHcu2uE+iNDivpCiwDgG+DPxdP47pyMw/Bv4G+Gfgc5l5EMUmvGf36fdsZs6kKOQ+ERF/GBF/UL7HG8r3PB+4KSJ6N+/dGzhkRwViH7tRFIHHAB8tl46GouA9NTNfQVHAzgFeU8a4EPiXiKgMiYiIduAG4IOZeShwNHBRRPxxucfYp4DXl+f7NnBJZr69PPw1FoiSJGm0yswfDtcCERxuKg3WI5l5f/n4Pooib9lOjrmx/POXwG8z84E+z3fr0+9LAOWdxVuB1wJdwAxgSbGdFADdFHszAdydmV39jP0LmdkDPB4R3wWOA+4FHsvMR8o+rweuz8yVZSzXRsTngJf0Oc/+FBtlz+8T03jgkPLPf+8tBDPzs/2MTZIkSQ1mkSgNzrN9HvdQTDru/bPX2K2O6buk8eYdnHtLn8etZd92YElmntL7QrlR9RMUG/mu63fkRcHZ9/y979f3HG3Apq2Oa6EYWtu3zzN9N3yNiBcBz1Dc6ezp0z4e2Dszfz6AOCVJktQADjeVqmclcBhAROxBMfxyMM4uz7EXcCywpPzvuIg4oHztDcBPKO7YDdSZfc5/HLB4G32+C/xlRHSWfd8OrAJ+0adPAs9GxOllnxdTzDU8lGJe5bERMaPs+w6KeZhQFKV9i01J0jAQEbdGxLSIWBQRBzY6nlqJiHUR8ZJGxyENZxaJUvX8IzAjIpJinuL3Bnmejoi4D1gEvCsz/zczH6K4O/eNiHgA+FuKxW4Gcgex1z4RcS9FIfjuzMytO2TmfwCfAb4XEQ9SLDrzpszs7tNnE3AicG5E/AS4FbgsM+/MzJ8CHwC+W8b7emB2eei3gNsj4o8GEbskqXb+HCAz31DmHUmjlKubSqNINfZhjIibgP/IzC9WKy5JUmNFxJd5bvXpAykWaJsAfAJ4FAiKFbA/SbHydQA3ZuZflcdvcwXunbzn/0/xBeImYAPwjsx8aHsrce/ofcqVvl9CMX9/b+A3wOmZuTwiXk3xRW4P8CPgdODAzPz1DmKbUB5zJMU0jX8BLgEmAV8ADi7Ptxj4UGZ2RcQG4AqKUUATgI8AJwEvp5geckJmro+IrvLneDywS3l872J0X6TYP28qsJZiX+GMiNuA/yrj2Qv4T4ovj/+6vJZZZdyvAv6xXOROGjTvJEojSETMioj7t/PfB6pw/tspVkHd1hBVSVKT6rv6NMWq270OBz5Zzj9fQ1GUvBGYCbwzIvboxwrcLxARbcBnKVbBPpxi1e9X9enygpW4+/E+rwZOyswDKAra2RExlmIEy/vLY75P/6ZqfBToAF5GURAeSTGN5EqK6Rcvp5hichBwUXnMOIqF6Y4AvgLMA95LUXRPphh9A8Wc/t+VK4OfTLEAXCdF0fh0Zv5JZu5PUdBe2Ceml5Y/j1eUfY8GrgbeFBG9C+CdD/xTP65P2iEXrpFGkMy8DrhuB13+fojnH+w8S0lSc1qWmT8uH/+SYsGyTcCTEbGGopg7iu2vwP0A25CZWyLiW8BdEfEd4N8ptlvqta2VuJ/dwfsA3JaZa8rHPy5jezmwOTOXlO/79Yj4Uj+u+1jgfZm5hWIu/dEAEfFN4Mgyto0R8U8UheAny+P6rmT+08z8TXncMp6/kvnny3h+EhE/BY7KzBsi4lcR8a7ymo6huHvY65Zy2seaiPgFsFtmroiIfwPOiIivAq8DLujH9Uk7ZJEoSZKk7dm41fNtrc7dxvZX4N6uzDy9nJ9+LPBB4AyKO2uw7ZW4d/Q+f8G2Vx6H5688vvW5t6eL56/S/WKK4a2tfdvL530XY+vvSuYvuL5y+O35FAXkQuApYJ8+/bZ3fV+gGKbaRTEEeDDrFUjP43BTSZIkweBXnx7wCtzlKqqPAavKvXQvpRhe2mtbK3EPZqXvnwAtZV8i4s3AlH5c038CZ0VEa0SMA26guJv478CFEdFStp8P/Ec/zre13uubCRwA3E5xF/DazLyGYgXxEygK4x3KzLso7qhehENNVSUWiZIkSYJy9WmKRVf6bTArcGfmk8DHKIaO3ksxXPO8Pl1esBL3IN9nM/AW4G8j4n7g/wNW9OOyLqdYUOcBiqGrizLzJopFe6YDPy3/S+Dj/Tjf1o4sVzKfD5ySmauBTwPvKFcMXwrcx3NDaXfmy8ATmfmTQcQivYCrm0qSJGnYqMZK3MNZRPQAnWWhXI3ztQM3Awsy8/pqnFNyTqIkSZKqLiJmUeyZuy3XZeaQFlMbiihWvtleQZV95z0OZxFxIHAnRZH4rQaHoxHEO4mSJEmSpArnJEqSJEmSKiwSJUmSJEkVFomSJEmSpAqLREmSJElShUWiJEmSJKnCIlGSJEmSVGGRKEmSJEmqsEiUJEmSJFVYJEqSJEmSKiwSJUmSJEkVFomSJEmSpAqLREmSJElShUWiJEmSJKnCIlGSJEmSVGGRKEmSJEmqsEiUJEmSJFVYJEqSJEmSKiwSJUmSJEkVFomSJEmSpAqLREmSJElShUWiJEmSJKnCIlGSJEmSVGGRKEmSJEmqsEiUJEmSJFVYJEqSJEmSKiwSJUmSJEkVFomSJEmSpAqLREmSJElShUWiJEmSJKnCIlGSJEmSVGGRKEmSJEmqsEiUJEmSJFVYJEqSJEmSKiwSJUmSJEkVFomSJEmSpAqLREmSJElShUWiJEmSJKnCIlGSJEmSVGGRKEmSJEmqsEiUJEmSJFVYJEqSJEmSKiwSJUmSJEkVFomSJEmSpIr2RgdQQ+OAw4HlwJYGxyJJqq02YAbwI2Bjg2NpBuZISRodBpUfR3KReDiwtNFBSJLq6tXADxodRBMwR0rS6DKg/DiSi8TlAKtXr6e7u6fRsUiSaqi1tYUpU3aB8rNfO2WOlKRRYLD5cSQXiVsAurt7TICSNHo4dLJ/zJGSNLoMKD+6cI0kSZIkqcIiUZIkSZJUYZEoSZIkSaoYyXMSJUk7sWVLF6tXr6Sra1OjQ+mX9vaxTJnSSVub6UuSVDvNlh+hujnSLCtJo9jq1Svp6Pg9dtlld1paWhodzg719PSwfv0aVq9eybRpMxodjiRpBGum/AjVz5EWif00cVIHHePGNDqMprFh42bWrtnQ6DAk7URX16amSYAtLS3ssssk1q17utGhaCvmyIExR0rDXzPlR6h+jrRI7KeOcWM4bc51jQ6jaSycO4u1mAClZtAsCRCaK9bRxBw5MOZIqTk0W86pZrwuXCNJkiRJqrBIlCQN2qJFt/D5z392m6+tXbuWt7/9NM45ZxYPPfQzvva1L9c5OkmSGqeZc6RFoiSpJn75y4eZPv1FzJ9/Hb/+9TKeeeaZRockSdKwMNxzpHMSJUlDdvvt3+erX51PV1cXRx11DKeffhaf+MRHeeaZp/n0pz/JXXctZdOmTbz0pftx/PFvanS4kiTVTTPmSItESdKQrFnzDN/61tf54hevob29nUsumcODD/6Miy++lJtu+iYXXfRBFi36Q371q18Om+QnSVI9NGuOtEiUJA3JL37xMCtW/Jbzzz8bgA0bnmXZsl+xzz77NjYwSZIarFlzpEWiJGlI1q9fx5/+6av50Ic+DBTfmo4bN44HH/xZgyOTJKmxmjVHunCNJGlIDjroEO6554c89dQqurq6+MAH3stPf/qT5/Vpa2tjy5YtDYpQkqTGaNYcaZEoSRqSSZMmM3v2hbz3vRdw1ll/ycyZh3HYYUc8r88BBxzInXfewc0339CgKCVJqr9mzZEON5UkDdob3nBC5fFxxx3/vNdmzjyMmTMPA2DvvV/CN7/5r3WNTZKkRmrmHGmRKElSDUXEJOAu4E2Z+euIOBa4AhgPXJ+Zl5b9DgbmAZOAO4DZmdkVEXsBC4DpQAKzMnNdROwKXAfsC6wETs7M39b58iRJI5DDTSVJqpGIeCXwA2D/8vl4YD5wIvAy4PCI6P16eQFwYWbuD7QA55XtVwFXZeYBwD3AZWX7x4Clmfky4Grgc7W/IknSaGCRKElS7ZwHvBN4onx+BPBwZi7LzC6KwvCkiNgbGJ+Zd5f9ri3bxwBHATf0bS8fv5HiTiLA14Hjy/6SJA2JRaIkSTWSmedm5tI+TXsAy/s8Xw7suYP2acCasqDs2/68c5WvrwE6q30NkqTRxzmJkiTVTyvQ0+d5C9A9gHbK9t4+fbX0ea1fpk6dMJDuqqLOzomNDkHSDqxY0Up7e/PdT2ttba3K54tFoiRJ9fM4MKPP890phqJur30FMDki2jJzS9mnd+jqb8p+j0dEOzARWDWQYFatWkd399Y16MBZ8AzcypVrGx2CpB3o7u6mq2tA37sNC93d3c/7fGltbRnUF4IWiZKkiomTOugYV/1pbRs2bmbtmg077Xfrrd/lq1+9hq6uLk466VTe+taTqx5Lg/03EBGxH7AMOA2Yn5mPRMSGiDgyM+8EzgAWZ+bmiFgKnAIsBM4EFpfnWlQ+/7vy9aWZubnO1yNJo0Kj8yPUN0daJEqSKjrGjeG0OdftvOMALZw7i7XsOAmuXLmCq6++imuu+Rpjxoxl9uxzmDnzMPbZZ9+qx9MombkhIs4GbgQ6KAq93kVpZgFXl1tm3AdcWbZfAHwlIi4FHgVOLdsvA66NiAeBp8vjJUk10Mj8CPXPkTUtEiPidOCvy6eLM/Mi94GSJG3LPff8kJkzD2PSpMkAvOY1r+W225aMiCIxM1/S5/ES4KBt9HmAYvXTrdsfAY7ZRvtTwJurGackaXiqd46s2WzMiPg9im9Bj6ZIhq8uNxB2HyhJ0gs8+eRKpk6dVnk+deo0VqxY0cCIJEkaHuqdI2u5ZE9bef5dgDHlf5txHyhJ0jZ0d3fT0vLcgp09PT20tm69gKckSaNPvXNkzYabZubaiLgM+DnwO+B2YBND3AcqInr3gXqCfnB578ZxtTtp+KvnEt87e5/dd9+d++//caXf008/xfTp019wXLWW95YkqVlMn/4iHnjgx5XnTz21imnTarc1bs2KxIh4BXAOsDfwDMUw0+Oo8z5QLu/dOC7vLQ1/9Vzie2fvM3Pm4cyb9yVWrlzF+PHj+d73ljBnzodecNzWy3vD4Jf4liSpGRx22BHMn//PrF69mvHjx3Pbbd9jzpwP1ez9arlwzeuAJZm5AiAirgUuogH7QEmShr/Ozumcd94FvPvd72Dz5i5OOOFEDjzwjxodliRJDVfvHFnLIvEBYG5E7EIx3PQEiiGnb3MfKEkanjZs3MzCudXfSWHDxv59bB933Os57rjXV/39JUkaikbnR6hvjqzlnMRbI+IQ4F6KBWt+CHwSuBn3gZKkYWntmg392q9JkqTRZLTlx5ruk5iZnwI+tVWz+0BJkiRJ0jBVnyXtJEmSJElNwSJRkiRJklRhkShJkiRJqrBIlCRJkiRV1HThGklSc5kyeSztY8dV/bxdmzay+plNVT+vJEn1MNryo0WiJKmifew47p17btXPe+iceUD/kuD69euYPfsc5s79LDNm7FH1WCRJGqjRlh8dbipJGjYefPBnXHDBuTz22KONDkWSpGGj3vnRIlGSNGzccsvNvO99FzNtWmejQ5Ekadiod350uKkkadj44Acva3QIkiQNO/XOj95JlCRJkiRVWCRKkiRJkiocbipJUp1FxOnAX5dPF2fmRRFxMDAPmATcAczOzK6I2AtYAEwHEpiVmesiYlfgOmBfYCVwcmb+tt7XIkkaeSwSJUkVXZs2lstxV/+8KkTE7wFXAvsDTwN3RsSxwGeBczPz7oi4BjgP+CJwFXBVZn4jIi4DLgMuBj4GLM3MN0bEGcDngFPqf0WSNPKNtvxokShJqig29G38pr433HBLo0OopTaK6R67AOuBMcBmYHxm3l32uRa4PCLmAUcBb+nTfjtFkfjG8jWArwNfiIgxmbm5DtcgSaPKaMuPzkmUJKmOMnMtxd3AnwOPA7+m+M1jeZ9uy4E9gWnAmszs2qodYI/eY8rX1wDuHSJJGjLvJEqSVEcR8QrgHGBv4BmK+YbHAT19urUA3RRf5vZsdYruPn36aunzWr9MnTphIN1VRZ2dExsdgqQdWLGilfb25ruf1traWpXPF4tESRrlenp6aGnZut4Ynnp6tq6XmtLrgCWZuQIgIq4FLgJm9OmzO/AEsAKYHBFtmbml7PNE2ec3Zb/HI6IdmAisGkggq1ato7t76D9TC56BW7lybaNDkLQD3d3dbN68pWnyIxQ5sru7+3mfL62tLYP6QrD5ymNJUtW0t49l/fo1TVF89fT0sH79GtrbxzY6lKF6ADg2InaJiBbgBIp5hhsi4siyzxkUq55uBpby3II0ZwKLy8eLyueUry91PqIkVUcz5Ueofo70TqIkjWJTpnSyevVK1q17utGh9Et7+1imTGnuaXeZeWtEHALcS7FgzQ+BTwI3A1dHxCTgPooVUAEuAL4SEZcCjwKnlu2XAddGxIMUq6TOqt9VSNLI1mz5EaqbIy0SJWkUa2trZ9q0GTvvqKrKzE8Bn9qq+QHgiG30fQQ4ZhvtTwFvrkV8kjTajfb86HBTSZIkSVKFRaIkSZIkqcIiUZIkSZJUYZEoSZIkSaqo6cI1EXEC8GFgF+DWzHxPRBwLXAGMB67PzEvLvgcD84BJwB3A7Mzsioi9KDYang4kMCsz19UybkmSJEkarWp2JzEi9gX+CXgL8ApgZkQcD8wHTgReBhxetkFRCF6YmfsDLcB5ZftVwFWZeQBwD8WS35IkSZKkGqjlcNO/oLhT+Hi5ue8pwO+AhzNzWWZ2URSGJ0XE3sD4zLy7PPbasn0McBRwQ9/2GsYsSZIkSaNaLYeb7gdsiohvA3sB/wY8CCzv02c5sCewx3bapwFryoKyb3u/TZ06YVDBa+g6Oyc2OgRJkiRJA1TLIrGd4i7gMcA64NvAs0BPnz4tQDfFHc3+tFO299uqVevo7t76FANnwTNwK1eubXQIkkaJ1tYWvxSUJKlKajnc9LfAf2bmysx8FrgZOBaY0afP7sATwOPbaV8BTI6ItrJ9RtkuSZIkSaqBWhaJ/wa8LuL/sXf3YXLV5cHHv7tJSKJJEJIgIIIi5sZXIi+xT1HAirRYLVpFSlIQLCAPpeKjEKyGKvjWpjYoatCLEIMGhApqVYi1jQoRihYoIETuosYAEpsYgSSUvGx2nz/O2WFYN8ns7szO7M73c11cmbnnd87cs7vsvfc5v/M78ZyyyTue4trCiIiDythsYFlmrgY2R8SR5banlPFtwAqK6xkBTgWWNTBnSZIkSWprDWsSM/PHwHzgR8BKYDVwOXAacEMZe4CnF6WZA1waEQ8Ak4DLyvg5wFkRsRJ4LTCvUTlLkiRJUrur6ZrEiHheZv66T+ylmblyZ9tl5mKKW15UWw4c0s/Ye4BZ/cRXU1zXKElSUwy2DkqSNBLttEmMiD3LhzdFxDEUC8oAjAO+DhzcuNQkSWou66AkqR3t6kziV4E3lI/XV8W7eHqaqCRJo5V1UJLUdnbaJGbmHwNExOLMfNfwpCRJUmuwDkqS2lFN1yRm5rsi4gBgT56eakNm3tWoxCRJahXWQUlSO6l14ZqLgQso7lvYe2f6HuDABuUlSVLLsA5KktpJTU0ixf0JD8pMb2QvSWpH1kFJUtuotUl82MIoSWpjda2DEfFm4MPAs4HvZeZ5EXEssACYCFyXmfPKsTOBRcAU4Bbg7Mzsioj9gaXAXkACczJzU71ylCS1r84axy2PiPkRcWREHNr7X0MzkySpddStDkbEgcAXgLcArwQOjYjjKe4rfALwEuCIMgZFI3huZs6guB7yzDK+EFiYmQcDdwAXDfbDSZJUrdYziaeV/55YFfNaDElSuzit/LcedfCtFGcKHwGIiJOAFwMPZuaqMrYUODEiVgITM/P2ctslwMURsQg4iqLR7I3fDFw4iHwkSXqGWlc3fWGjE5EkqVXVuQ4eBGyNiG8B+wPfAe4H1lSNWQPsB+y7g/g0YENmdvWJD8jUqZMGnLzqY/r0yc1OQZJ2qNbVTd/XXzwzF9Q3HUmSWk+d6+BYirOAxwCbgG8BT/H0qqlQTCvtprgspJY4ZXxA1q/fRHd3390MnA3PwK1bt7HZKUhqA52dHYM6IFjrdNNXVD3eDTgaWD7gd5MkaWSqZx38DfDvmbkOICK+QTGNdXvVmL2BR4FHgH36ia8Fdo+IMZm5vRzjAnOSpLqodbrp6dXPI2Jf4MqGZCRJUoupcx38DnBVRDwH2AgcD1wPfCAiDgJWAbOBxZm5OiI2R8SRmXkrcAqwLDO3RcQK4CTgGopbdCwbZD6SJD1DraubPkO5DPgL6puKJEkjw1DqYGb+GJgP/AhYCawGLqdYHOeGMvYAReMIMAe4NCIeACYBl5Xxc4CzysVtXgvMG0w+kiT1NZhrEjuAwymmukiSNOrVuw5m5mKKW15UWw4c0s/Ye4BZ/cRXU1zXKElSXQ3mmsQe4CHggvqnI0lSS7IOSpLaxoCuSYyIA4BxmfnzhmYlSVILsQ5KktpJrdNNDwL+heJ+TZ0R8VvgTZn5s0YmJ0lSK7AOSpLaSa0L13wOmJ+Ze2Tm7sDHgM83Li1JklqKdVCS1DZqbRKfm5lX9T7JzC8B0xuTkiRJLcc6KElqG7U2iWMjYs/eJxExjeLCfUmS2oF1UJLUNmpd3fSzwO0RcR1FUfwL4NKGZSVJUmuxDkqS2katZxJvoiiKuwEvBZ4HfKNRSUmS1GKsg5KktlFrk7gE+HxmXgj8JfAhfv8mwJIkjVZLsA5KktpErdNNp2XmZQCZuRn4dES8s5YNI+JT5fanRcRMYBEwBbgFODszuyJif2ApsBeQwJzM3BQRzwGuBg4E1gHvyMzfDODzSZJUD4Oug5IkjTQDWbhm394nEfFcoGNXG0XE64HqIroUODczZ5Tbn1nGFwILM/Ng4A7gojL+MWBFZr4EuAL4TI35SpJUT4Oqg5IkjUS1nklcANwdEd+luCbjWOCCnW1QrgL3ceATwCERcQAwMTNvL4csAS6OiEXAUcBbquI3AxcCf1q+BvBV4PMRMS4zt9WYtyRJ9TDgOihJ0khVU5OYmYsj4g7g9UAX8I+Zed8uNvsixTUbzy+f7wusqXp9DbAfMA3YkJldfeLP2KaclrqB4r5Uj9aSN8DUqZNqHao6mz59crNTkKS6GGQdlCRpRKr1TCKZeS9wby1jI+IM4OHMXB4Rp5XhTp55T6kOoLufOGW8d0y1jqrXarJ+/Sa6u4d+KysbnoFbt25js1OQ1CY6OzsaflBwIHVQkqSRrOYmcYBOAvaJiLuBPYFJFI3gPlVj9qY4I7gW2D0ixmTm9nJM75nCX5fjHomIscBkYH2DcpYkSZKktlfrwjUDkplvyMyXZ+ZM4O+Ab2Xm6cDmiDiyHHYKsKy8vnAFRWMJcCqwrHx8U/mc8vUVXo8oSZIkSY3TqDOJOzIHuCIipgB3AZeV8XOAqyJiHvAQcHIZvwhYEhH3A4+X20uSJEmSGqThTWJmLqFYsZTMvAeY1c+Y1cAx/cR/B/xZQxOUJEmSJFU0ZLqpJEmSJGlkGu7pppIkqRQRnwKmZeZpETETWARMAW4Bzi5v/7Q/sBTYC0hgTmZuiojnAFcDBwLrgHdk5m+a8kEkSaOKZxIlSWqCiHg98M6q0FLg3MycQXHLpzPL+EJgYWYeDNxBcb0+wMcoFnR7CXAF8JlhSVySNOrZJEqSNMwiYk/g48AnyucHABMz8/ZyyBLgxIgYBxwFXF8dLx//KcWZRICvAseX4yVJGhKnm6ohuru2MX365GanMaJ0bd3CY09sbXYakobHF4EPAc8vn8ET+AEAACAASURBVO8LrKl6fQ2wHzAN2JCZXX3iz9imnJa6AZjO0/ca3qWpUycNNn8NkTVSUiuzSVRDdI4dx53zz2h2GiPKYXMXATaJ0mgXEWcAD2fm8og4rQx3Aj1VwzqA7n7ilPHeMdU6ql6ryfr1m+ju7rv7gbPhGbh16zY2OwVJbaCzs2NQBwRtEiVJGl4nAftExN3AnsAkikZwn6oxe1OcEVwL7B4RYzJzezmm90zhr8txj0TEWGAysH54PoIkaTTzmkRJkoZRZr4hM1+emTOBvwO+lZmnA5sj4shy2CnAsszcBqygaCwBTgWWlY9vKp9Tvr6iHC9J0pB4JlGSpNYwB7giIqYAdwGXlfFzgKsiYh7wEHByGb8IWBIR9wOPl9tLkjRkNomSJDVJZi6hWLGUzLwHmNXPmNXAMf3Efwf8WUMTlCS1JaebSpIkSZIqPJMoSZI0jLxN1MB4iyhp+NkkSpIkDSNvEzUw3iJKGn5ON5UkSZIkVdgkSpIkSZIqbBIlSZIkSRU2iZIkSZKkCptESZIkSVKFTaIkSZIkqcImUZIkSZJUYZMoSZIkSaqwSZQkSZIkVdgkSpIkSZIqbBIlSZIkSRVjG7nziPgw8I7y6Y2ZOTcijgUWABOB6zJzXjl2JrAImALcApydmV0RsT+wFNgLSGBOZm5qZN6SJEmS1K4adiaxbAaPA14FzAQOi4iTgcXACcBLgCMi4vhyk6XAuZk5A+gAzizjC4GFmXkwcAdwUaNyliRJkqR218jppmuA92fm1szcBvwMmAE8mJmrMrOLojE8MSIOACZm5u3ltkvK+DjgKOD66ngDc5YkSZKkttaw6aaZeX/v44h4McW0089SNI+91gD7AfvuID4N2FA2lNXxmk2dOmnAuUvNMn365Gan8Hu2btvObuPGNDuNEcOvlyRJGukaek0iQES8DLgRuADoojib2KsD6KY4o9lTQ5wyXrP16zfR3d13FwPXin+8a/RZt25js1P4PdOnT2b23KubncaIcc38OS35fRztOjs7PCgoSVKdNHrhmiOBG4D3Zua1EXE0sE/VkL2BR4FHdhBfC+weEWMyc3s55tFG5ixJUqO5sJskqZU1cuGa5wPfBGZn5rVl+MfFS3FQRIwBZgPLMnM1sLlsKgFOKePbgBXASWX8VGBZo3KWJKnRXNhNktTqGrlwzfnABGBBRNwdEXcDp5X/3QCsBB7g6UVp5gCXRsQDwCTgsjJ+DnBWRKwEXgvMa2DOkiQ1mgu7SZJaWiMXrjkPOG8HLx/Sz/h7gFn9xFcDx9Q1OUmSmqRVFnYDF3fTyOHaENLwavjCNZIk6fc1e2E3cHE3jRwuCCYNzmAXdmvkdFNJktSP8hr85cAHMvMqdryA2y4XdivjLuwmSaobm0RJkoaRC7tJklqd000lSRpe1Qu79ca+wNMLu00AbuKZC7tdERFTgLt45sJuV0XEPOAh4OThSF6SNPrZJEqSNIxc2E2S1OqcbipJkiRJqrBJlCRJkiRV2CRKkiRJkipsEiVJkiRJFTaJkiRJkqQKm0RJkiRJUoVNoiRJkiSpwiZRkiRJklRhkyhJkiRJqrBJlCRJkiRV2CRKkiRJkipsEiVJkiRJFTaJkiRJkqQKm0RJkiRJUoVNoiRJkiSpwiZRkiRJklRhkyhJkiRJqrBJlCRJkiRVjG12ApIkSdJIM3nKBCaMH9fsNEaMzVu2sXHD5manoRqNiCYxImYD84BxwKcz8/NNTkmS+tXdtY3p0yc3O40Ro2vrFh57Ymuz0xjRrJFSc0wYP47Zc69udhojxjXz57ARm8SRouWbxIh4HvBx4DBgC3BbRPwgM1c2NzNJ+n2dY8dx5/wzmp3GiHHY3EWATeJgWSMlSY3Q8k0icCzw/cz8HUBEXA+8HbhkF9uNAejs7KhbItP2eHbd9tUOdpsytdkpjDj1/HmtJ3/2B8af/YGpx8991T7GDHlnI4s1coTy98TAWB9Hh1b9Po5mg62PHT09PfXPpo4i4m+BZ2fmvPL5GcCszDxrF5u+BljR6PwkSS3ltcCPmp3EcLFGSpJqNKD6OBLOJHYC1Z1sB9Bdw3b/SfHFWANsb0BekqTWMQbYh+J3fzuxRkqSdmZQ9XEkNImPUBSyXnsDj9aw3Rba6GiyJIlfNDuBJrBGSpJ2ZcD1cSQ0if8OfCQipgNPAm8DdjWNRpKkdmCNlCTVXWezE9iVzPw18CHgB8DdwDWZ+ZPmZiVJUvNZIyVJjdDyC9dIkiRJkoZPy59JlCRJkiQNH5tESZIkSVKFTaIkSZIkqcImUZIkSZJUYZMoSZIkSaqwSZQkSZIkVYxtdgIaHSLiYODtwH5AN/Ao8N3MvKOpiUmS1ETWR0kjkWcSNWQRcQ5wbfn0P4G7ysdXRMT7m5OVJEnNZX2UNFJ19PT0NDsHjXARkcCrMvN/+8SfBdyVmQc3JzOpsSJi/529npkPDVcuklqP9VHtyvo48jndVPXQBYzrJz4R2DbMuUjD6UbgxRTTxzr6vNYDHDjsGUlqJdZHtSvr4whnk6h6+DjwXxGxHFhD8T//vsAfAR9qZmJSgx0JrADOycxbm52MpJZjfVS7sj6OcE43VV1ExL7AsRTFrxN4BPj3zHy0qYlJDRYRs4AzMvOsZuciqfVYH9WurI8jm02iJEmSJKnC1U0lSZIkSRU2iZIkSZKkCptEaRAi4rsRcV7V8xkR0RMRn6iK7RURWyJi9xr3eUxE3NeIfGt8/7sj4jn9xM+PiCVD2O/uEfH9ISUnSRq1+taJHdWjOrzPRyLic0PY/nsRMa2Gcf8UEQ+Vn+PuiLhusO8pNYurm0qDswx4HfCZ8vmbgW8DJwAfLGN/BNyamU8Mf3oDl5kzG7TrPYBZDdq3JGnke0adaGA9Gqo31DjuD4G/yMzbGpmM1Eg2idLgLAM+HBGdmdlN0SR+ELg2Il6Umb8AXg/cGBEvAz4HTKVY/vyfMvPLEXEMRZP5JDAJuKB35xHxGuAadlFkImIG8HlgMrAPcDdwUmZujohXA5cBzwa2Audn5vd3Eu8BpgNPlK+/AVgL/E8Zozwr+hngFRT3/loOXJCZXRGxGfh74Lgyl/mZeTnwJWBiRNwNHJaZ2wfx9ZYkNUBZi/4BWA0cDDwFnAZcCOwJvAj4DvAJinozk6KWLQM+WPX7fwHFKq6TgI8AJ1LUikeBN2fmkxHxWuAfgWdR1J95mfld+tQJivtLTs/M30bERcDJZey/gXMz8zcR8UPgPyhutbA/8O/AWWVNruVzv4mibu8G7AVclZkXRcSkMp8XA93AncC7gSvLTX8QEW/MzId3sN/xwKuAuRHxojLn/wc8DDxQ5v9v5dhFwE8z8zMR8SHgbRSz/H5FceuIRyPiD4D5wHiK2vpvmflXEfECiltM/Ax4AcXfHB8svx7bgF8Cp2fmplq+HlJfTjeVBiEz/xt4DHhlROwBBHA7cBPwZ+Ww1wP/CnwL+GxmvhI4HvhERPyfcszLgZPL17YARMTrgCXAm2o4CnkmRWH7A+Ag4IXAn0bEOOCbwCWZ+fJy3GfK4tVfvPp3wTnADOClFI3i/lWvXQrcmZmHURTBacD7ytfGA7/NzD8E3g5cGhETgNOBpzJzpg2iJLWkw3m6Tn0J+EoZf1ZmviwzL6Q4eLieovE7HDgEOL8cNx74TWbOAq4CFgHvpagjuwMnRMRU4HrgvPJ93gksjYgXsoM6ERGnU9TNI8pt7qOoj71eBBwD9NbXo2v5sBHRAbwfeGdmHg78AfC35VTStwKTy7OZR5SbHJiZp5ePX7ejBrG0L/B9YF6Z1+3Av5SvXU5Rd4mIyRR/L1wVEadSfF1nle97E8XXEOA84O8y89UUX88/i4jDytf2Az6amTMoGsVjgEPKGv3L8v2lQbFJlAZvGcUv5OMpjux1UxxtPa48wtdDcRRyQmZ+HaC8L9YNwJ+U+3g4M1dX7XO/ch/fzMx7a8jhQmBdRMylKD77UhzFfQWwPTNvLN/3zsx8BfCy/uJ9jrweC1yTmVsz80ng6qrX3gS8uzzaeyfF9KBXVL3eWwjvovij4dk1fAZJUnPdk5kryseLKQ4CTgV+VDXmeOBzmdmTmVuAL5SxXjeU//6C4uzYr8vasorijOSrgZ9n5o8BMvN+4FaKOrojxwNfKmsRFDNZXh8Ru5XPv52Z3Zm5Afh5+T67lJk9FDOADouID1OcBe2gqFk/Al5Wnqn8APDpzPx5Lfst970qM9+YmfeV7/Mpimb2BRQN7hsiYjrwl8B3MvNxitr6B8AdZX39G4qDz1A008+JiA8CC4GJFHUeirOr/1E+/imwHfhxRHwUuMHprhoKm0Rp8JYBR1H8cv9OGVtOUVyPBW4ExlA0i9U6KaZqAvSdBtJFcfbuneW00F35KnAWxTShSymas45yP89434h4+Y7iEdF36nlHn5x6jQFOLI/2zqQo+udWvf4UVApw3/1IklpT9e/53t/b23lmjerkmfWjupZBORumtK2f99hVPexP3206KS6V6s3xqarXeqix5kTEs4H/Ag6lqJsXlDl3ZOYqipk5nwSmAP8eEW+uZb/lvl8ZEaf0CXcA28qG8GsUDeK7KBptKD7nP1TV1sMppo0C3AK8kWKq6iXAr6s+55bM7AIo9917dnc7cF1EnFNr3lJfNonS4P2A4tqMoymmlZKZT1GcYTuXokl8ANgWEX8OEBH7Ulxz8G872OdvyiN/5wNfiYhn7SKHP6aYOtq7ctqrKYpNAj0R8YbyfQ+lmP6yo3j174JlwKkRMaGcLnpS1Wv/Cvy/iOgop65+i2c2if3pAsaU03skSa1nZkT0Tk08C7gNeLzPmH8Fzq36/X8WO65l/fkP4OCImAVQXq9/FPBDdlwnvgu8q2zqAN4D3FKeyRyKF1M0gPMy89sUZzPHlzn8X4opt98rp9n+K0UzCUXztbOmFooZRJeV02gB/i9wb2Y+Uj7/fPk5OjPzJ2XsX4EzImJK+fwSir8BnkMx5fXCckbSfhQN7Ji+b1peY7kcuC0zPwJ8maeny0oDZpMoDVJm/i/wYPHwGSuY3khRgH6YmduAtwDnRcS9FBfWX5KZP9jFvq+iaDD/aRdpfBD4RkT8FPgicDNwUFlA/5xicZ27KY5W/vlO4lur9vlF4A6Kaz9uppgq1Os9FNNxfgrcW/47fxc5rgF+AtxfXpMiSWotvwE+XtaStwB9z4RB8ft/L4rf+z+lOOj48VrfIDN/S7GYzWfL97mGYmGV/2bHdeJKirr5k4j4GUWzNmeAn60/91LMAHqg3O+bgZUUDdiXKZqwlRFxJ8U1lZeV230NuLmcmbOjz3kfxXTRb5f7fivFwju9r99DsabBF6o2W1Tmc3tE3E9xLeFp5dnBTwJ3lbfI+gDFFN2D+nnrZcD9wH0RcQfFCqsX1/wVkfro6Onpe+ZfkiRJ7aBc3fRz5WJmarByxdMfAlEebJZakrfAkFpYRASwo5vwZmaetIPXJElqK+WKoSt28PLGzHxtnd7nOp5eWKavkzIzd7DdJRTTdM+2QVSr80yiJEmSJKnCaxIlSZIkSRU2iZIkSZKkCptESZIkSVKFTaIkSZIkqcImUZIkSZJUYZMoSZIkSaqwSZQkSZIkVdgkSpIkSZIqbBIlSZIkSRU2iZIkSZKkCptESZIkSVKFTaIkSZIkqcImUZIkSZJUYZMoSZIkSaqwSZQkSZIkVdgkSpIkSZIqbBIlSZIkSRU2iZIkSZKkCptESZIkSVKFTaIkSZIkqcImUZIkSZJUYZMoSZIkSaqwSZQkSZIkVdgkSpIkSZIqbBIlSZIkSRU2iZIkSZKkCptESZIkSVKFTaIkSZIkqcImUZIkSZJUYZMoSZIkSaqwSZQkSZIkVdgkSpIkSZIqbBIlSZIkSRU2iZIkSZKkCptESZIkSVKFTaIkSZIkqcImUZIkSZJUYZMoSZIkSaqwSZQkSZIkVdgkSpIkSZIqbBIlSZIkSRU2iZIkSZKkCptESZIkSVKFTaIkSZIkqcImUZIkSZJUYZMoSZIkSaqwSZQkSZIkVdgkSpIkSZIqbBIlSZIkSRVjm51AA40HjgDWANubnIskqbHGAPsA/wlsaXIuI4E1UpLaw6Dq42huEo8AVjQ7CUnSsHot8KNmJzECWCMlqb0MqD6O5iZxDcBjjz1Jd3dPs3ORJDVQZ2cHe+zxbCh/92uXrJGS1AYGWx9Hc5O4HaC7u8cCKEntw6mTtbFGSlJ7GVB9dOEaSZIkSVKFTaIkSZIkqWI0TzeVJO3C9u1dPPbYOrq6tjY7lZqMHbsbe+wxnTFjLF+SpMYZafUR6lsjrbKS1MYee2wdEyY8i2c/e286Ojqanc5O9fT08OSTG3jssXVMm7ZPs9ORJI1iI6k+Qv1rZFs1iZOnTGDC+HGD2nbzlm1s3LC5zhlJUnN1dW0dMQWwo6ODZz97Cps2Pd7sVNrWUOpoK7GmS9qVkVQfof41sq2axAnjxzF77tWD2vaa+XPYiAVF0ugzUgogjKxcR6Oh1NFWYk0fmNFycAA8QKCBGWk1p575tlWTKElSK4iIHwB7AdvK0LuBFwHzgHHApzPz8+XYY4EFwETgusycV8ZnAouAKcAtwNmZ2TWcn0PtYbQcHAAPEEi1amiTGBGXAG8HeoArM3PBQItdROwPLKUopgnMycxNjcxbklSbm276Nr/85S8499z3/t5rGzdu5D3veTcdHR2cf/7fcued/8kpp5zehCxbS0R0ADOAA3qbuoh4HnAtcBiwBbitbCRXAYuBo4GHgRsj4vjMXEZRG8/IzNsj4krgTODyYf9AkqR+jeQa2bBbYETE0cAfAa8EDgf+JiIOoSh2JwAvAY6IiOPLTZYC52bmDKCDotgBLAQWZubBwB3ARY3KWZJUP7/4xYPstddzWbz4an71q1U88cQTzU6pVUT57/ci4p6IOBc4Fvh+Zv4uM58Erqc4yDoLeDAzV5UN5VLgxIg4AJiYmbeX+1oCnDisn0KSNGitXiMbdiYxM2+OiNeVZwOfV77XcyiLHUBE9Ba7lfx+sbs4IhYBRwFvqYrfDFzYqLwlSQN3880/4MtfXkxXVxdHHXUMf/mX7+STn7yEJ554nE996u+57bYVbN26lRe96CCOP/5NzU632fYAlgN/QzG19IfAdcCaqjFrKBrEffuJ77eT+IBMnTppoJuMGtOnT252CmoSv/eqxdq1nYwdO7TzaZ2dHXR2dvCjH/2QJUuupKuri6OPPoZTTjmdv//7S3j88cdZsOAfuPXWFWzduoUZM2bwxjcOrUZ2dnbW5We8odNNM3NbRFwMnA98jYEXu2nAhqprLAZVBCVJjbNhwxN87Wtf5fLLr2Ts2LF86ENzuf/++7jwwnl8/ev/zPnnf4CbbnoZv/zlL2wQgcz8D+A/ep+XU0UXAB+rGtYBdFPM+OkZQHxA1q/fRHd3z64HlkbTH9fr1m1sdgojxmj6voPfe9Wmu7ubrq4B/1rts48eHn/8ca699hoWLny6Rt57773MnVvUyPe970IOPvil/PKXv+C4495Yh/fsfsbPeGdnx6AOCDZ84ZrM/HBE/APwbYprMAZS7PrGYYBFsJ5HSUfbL0lJGuqR0s7ODn7xiwf5n//5De9+92kAPPXUUzz00Cpe+MIX0dHRwdixnZWjqUM9Klu8Z32OkjZLRLwGGJ+Zy8tQB/AroPrGVnsDjwKPDDAuSWohP//5g6xd+xvOOus0ADZvfopVq37JC194YHMT24WGNYkRcTAwITPvzsz/jYivU1xfsb1q2K6K3Vpg94gYk5nbyzEDKoLVR0mH+keFR54kjTZDPVLa3d3Dpk2b+MM/fC0f/OCHgeLM4vjx47n//vvo6emhq6ub7u4eurt7hnyEtDfnvr+PB3uktEmeA1wSEX9IMd30ncBfAksjYjrwJPA24CzgXiAi4iCKRWxmA4szc3VEbI6IIzPzVuAUYFkTPoskaSeefHLHNbKVNWzhGuBA4IqIGB8Ru1EsVvNFymIXEWMoit2yzFwNbI6II8ttTynj24AVwEll/FQsgpLUUg455FXcccdP+N3v1tPV1cUFF7yXn/703meMGTNmDNu3b9/BHtpLZn4HuBH4L+BOiqbvVuBDwA+Au4FrMvMnmbkZOA24AVgJPECxqA3AHODSiHgAmARcNpyfQ5K0ayO1RjZy4ZqbImIWRRHcDtyQmddGxDqKYjcBuIlnFrsrImIKcBdPF7tzgKsiYh7wEHByo3KWJA3clCm7c/bZ5/Le957D9u3bOeqo13H44bO46647KmMOPvilXHnlF9l//wN461vf3sRsW0NmXkSf1boz8xrgmn7GLgcO6Sd+D8XiNpKkFjVSa2SjF675CPCRPrEBFbvyLOMxDUlQkjQkb3zjmyuPjzvu+Ge8duihh3PooYcDcMABL+Cf//lfhjU3SZKaaSTXyEZON5UkSZIkjTA2iZIkSZKkCptESZIkSVKFTaIkSZIkqcImUZIkSZJUYZMoSZIkSapo6C0wJEkjy+QpE5gwflzd97t5yzY2bthc9/1KkjQc2q0+2iRKkiomjB/H7LlX132/18yfw0Z2XQS/973v8uUvX0lXVxcnnngyb3vbO+qeiyRJA9Xs+gjDWyNtEiVJLWHdurVcccVCrrzyK4wbtxtnn/0uDj30cF74wgObnZokSU013DXSaxIlSS3hjjt+wqGHHs6UKbszceJEXve61/PDHy5vdlqSJDXdcNdIm0RJUkv47W/XMXXqtMrzqVOnsXbt2iZmJElSaxjuGmmTKElqCd3d3XR0dFSe9/T00NnZsZMtJElqD8NdI20SJUktYa+9nsv69b+tPP/d79Yzbdr0JmYkSVJrGO4aaZMoSWoJhx8+izvv/E8ee+wxNm/ezA9/+H1e/er/0+y0JElquuGuka5uKkmq2LxlG9fMn9OQ/e7K9Ol7ceaZ5/Ce97ybbdu6ePObT+ClL3153XORJGmgmlkfYfhrpE2iJKli44bNNd+vqRGOO+5POO64P2na+0uS1J9m10cY3hrZ0CYxIj4M9N7l8cbMnBsRXwJeAzxZxi/OzG9ExLHAAmAicF1mziv3MRNYBEwBbgHOzsyuRuYtSZIkSe2qYdcklk3fccCrgJnAYRHxVuBw4KjMnFn+942ImAgsBk4AXgIcERHHl7taCpybmTOADuDMRuUsSZIkSe2ukWcS1wDvz8ytABHxM2D/8r/FEfE84BvAxcAs4MHMXFWOXQqcGBErgYmZeXu5zyXl+MsbmLckSZIkta2GNYmZeX/v44h4McW009cCxwDnAE8A3wH+CthE0VT2WgPsB+y7g7gkSZIkqQEavnBNRLwMuBG4IDMTeGvVa58FTgWuB3qqNusAuimmw/YXr9nUqZMGl3g/pk+fXLd9SVIrWLu2k7FjR9bdkDo7O0fN7+OI+BQwLTNP29E1+BGxP8WlF3sBCczJzE0R8RzgauBAYB3wjsz8TVM+iCRpVGn0wjVHAjcA783MayPiFcCMzLyhHNIBbAMeAfap2nRv4NGdxGu2fv0muruLPnOof1SsW7dxSNtLUqvp7u6mq2tAx96arru7+/d+H3d2dtT1oOBwiIjXA++kOJAKRSN4RmbeHhFXUlyDfzmwEFhY1tGLgIuAC4GPASsy808j4hTgM8BJw/05JEmjT8OaxIh4PvBN4KTM/H4Z7gA+HRHfp5hiehZwFfDjYpM4CFgFzAYWZ+bqiNgcEUdm5q3AKcCyRuUsSe1uj913Y+xu4+u+366tW3jsia01jX3yyU2cffa7mD//0+yzz751z6UVRMSewMeBTwCHRMQB9HMNfkQsAo4C3lIVv5miSfzT8jWArwKfj4hxmVnbTbckSTVrt/rYyDOJ5wMTgAUR0Rv7AvBJ4FZgHHBDZn4VICJOozjrOAG4iWIKKsAc4IqImALcBVzWwJwlqa2N3W08d84/o+77PWzuImDXRfD+++9j/vyP8fDDD9U9hxbzReBDwPPL5zu6Bn8asKHq1k/V1+ZXtimnpW4ApjOAGTcj7exrPY2WKcsaOL/3qkXfyzEaWR/Hjt313f3uu++nfPKTH+Xhhx9izJgdXypSr0syGrlwzXnAeTt4eWE/45cDh/QTv4di9VNJ0ij37W9/g/e970I++tG/a3YqDRMRZwAPZ+by8gAp7Pga/L5xePra/I4+8QFft199SUYtRtMf115CUrvR9H0Hv/eqzXBejlHL+3zzm1+v1Mft23ecW99LMgZ7OUbDF66RJKlWH/jARc1OYTicBOwTEXcDewKTKBrB/q7BXwvsHhFjMnN7Oab3TOGvy3GPRMRYYDKwfng+giRpOA13fRxZS9pJkjTCZeYbMvPlmTkT+DvgW5l5OrC5XPANymvwy+sLV/D0gjSn8vS1+TeVzylfX+H1iJKkevBMoiRJrWFH1+CfA1wVEfOAh4CTy/hFwJKIuB94vNxekqQhs0mUJKlJMnMJxYqlO7wGPzNXA8f0E/8d8GcNTVCS1JacbipJkiRJqvBMoiSpomvrlvJ2FfXf70Bcf/23656DJEmD1W710SZRklRR3NC3tpv6SpLULtqtPjrdVJIkSZJUYZMoSZIkSaqwSZSkNtfT09PsFGo2knKVJI1sI63m1DNfm0RJamNjx+7Gk09uGBGFsKenhyef3MDYsbs1OxVJ0ig3kuoj1L9GunCNJLWxPfaYzmOPrWPTpsebnUpNxo7djT32mN7sNCRJo9xIq49Q3xppkyhJbWzMmLFMm7ZPs9OQJKmltHt9dLqpJEmSJKnCJlGSJEmSVGGTKEmSJEmqaOg1iRHxYeAd5dMbM3NuRBwLLAAmAtdl5rxy7ExgETAFuAU4OzO7ImJ/YCmwF5DAnMzc1Mi8JUmSJKldNexMYtkMHge8CpgJHBYRJwOLgROAlwBHRMTx5SZLgXMzcwbQAZxZxhcCCzPzYOAO4KJG5SxJkiRJ7a6RAnJGUwAAIABJREFUZxLXAO/PzK0AEfEzYAbwYGauKmNLgRMjYiUwMTNvL7ddAlwcEYuAo4C3VMVvBi5sYN5qcZOnTGDC+HGD2nbzlm1s3LC5zhlJkiRJo0fDmsTMvL/3cUS8mGLa6Wcpmsdea4D9gH13EJ8GbMjMrj7xmk2dOmnAue/I9OmT67YvDc3suVcPartr5s9hwvTBNZiSJElSO2j4fRIj4mXAjcAFQBfF2cReHUA3xbTXnhrilPGarV+/ie7uYhdDbfLWrds4pO1VH34fJfXV2dlR14OCkiS1s4aubhoRRwLLgQ9k5lXAI0D1XSn3Bh7dSXwtsHtEjCnj+5RxSZIkSVIDNHLhmucD3wRmZ+a1ZfjHxUtxUNn4zQaWZeZqYHPZVAKcUsa3ASuAk8r4qcCyRuUsSZIkSe2ukdNNzwcmAAsiojf2BeA04IbytZuA68vX5gBXRMQU4C7gsjJ+DnBVRMwDHgJObmDOkiRJktTWGrlwzXnAeTt4+ZB+xt8DzOonvho4pq7JSZIkSZL6VVOTGBHPy8xf94m9NDNXNiYtSZJa32DrY0RcArydYnG2KzNzQXl/4QXAROC6zJxXjp0JLAKmALcAZ2dmV0TsT3GP4b2ABOZk5qb6fkJJUjvaaZMYEXuWD2+KiGMoVh0FGAd8HTi4calJktSahlIfI+Jo4I+AV5bjV0bEcmAxcDTwMHBjRByfmcsoGsEzMvP2iLgSOBO4HFgILMzMayPiIuAivI+wJKkOdrVwzVeB3wKvANaXj39LUcDuamxqkiS1rEHXx8y8GXhdeQ/gvSgO2D4HeDAzV5XxpcCJEXEAMDEzby83X1LGxwFH8fR1/UuAE+v26SRJbW2nZxIz848BImJxZr5reFKSJKm1DbU+Zua2iLiYYpG3rwH7AmuqhqwB9ttJfBqwoWwoq+MD0s73lhzqPXc1cvm9l3atpmsSM/Nd5dHMPXl6Sg2Z6dlESVLbGkp9zMwPR8Q/AN8GZlBcn9irA+immPFTS5wyPiDr12+iu7vvbnZsNP1xvW7dxmanMGKMpu87+L1Xe+ns7BjUAcFaF665GLiA4ub2vdWkBzhwwO8oSdIoMZj6GBEHAxMy8+7M/N+I+DrFIjbbq4btDTwKPALs0098LbB7RIzJzO3lmEfr86kkSe2u1ltgnAoclJkWIEmSnjaY+nggcHFEvIaioTwB+CLwjxFxELAKmA0szszVEbE5Io7MzFuBU4Bl5XTVFcBJwDVlHsvq97EkSe1sVwvX9HrYBlGSpN8z4PqYmTcBNwL/BdwJ3JaZ1wKnATcAK4EHeHpRmjnApRHxADAJuKyMnwOcFRErgdcC84b2USRJKtR6JnF5RMwH/gV4qjfoNYmSpDY3qPqYmR8BPtInthw4pJ+x9wCz+omvBo4ZRM6SJO1UrU3iaeW/1ctre02iJKndnVb+a32UJI0ata5u+sJGJyJJ0khjfZQkjUa1rm76vv7imbmgvulII9fkKROYMH7coLffvGUbGzdsrmNGkhrN+ihJGo1qnW76iqrHuwFHA8vrn440ck0YP47Zc68e9PbXzJ/DRmwSpRHG+ihJGnVqnW56evXziNgXuLIhGUmSNEJYHyVJo1Gtt8B4hnK57xfUNxVJkkY266MkaTQYzDWJHcDhwNqGZCRJ0ghhfZQkjUaDuSaxB3gIuKCWDSNiCnAb8KbM/FVEfAl4DfBkOeTizPxGRBwLLAAmAtdl5rxy+5nAImAKcAtwdmZ21Zi3JEmNNOj6KElSqxrQNYkRcQAwLjN/Xst2EfFq4ApgRlX4cOCozFxTNW4isJjigv+HgRsj4vjMXAYsBc7IzNsj4krgTODyWt5fkqRGGmx9lCSpldU63fQg4F+AfYHOiPgtxZnBn+1i0zOBvwa+Uu7nWcD+wOKIeB7wDeBiYBbwYGauKsctBU6MiJXAxMy8vdzfknK8TaIkqemGUB8lSWpZtU43/RwwPzOvAoiI04HPA3+0s40y84xyfG9ob+D7wDnAE8B3gL8CNgFrqjZdA+xHUXT7i9ds6tRJAxm+U9OnT67bvtQ8rfx9bOXcJPVrUPVRkqRWVmuT+NzeAgiQmV/a0Q2EdyYzfwm8tfd5RHwWOBW4nuJajl4dQDfF6qv9xWu2fv0muruLXQz1D/B16zYOaXvVR6t+H+vR4PkzJg1OZ2dHXQ8KDkBd6qMkSa2k1ltgjI2IPXufRMQ0ntm81SQiXhERb6sKdQDbgEeAfariewOP7iQuSVIrqEt9lCSpldR6JvGzwO0RcR1F8fsL4NJBvF8H8OmI+D7FFNOzgKuAHwNRXtuxCpgNLM7M1RGxOSKOzMxbgVOAZYN4X0mSGqFe9VGSpJZR65nEmyiK327AS4HeRWcGJDPvBT4J3AqsBO7OzK9m5mbgNOCGMv4AxRRUgDnApRHxADAJuGyg7ytJUoPUpT5KktRKaj2TuAT4fGZeFhETgLMpblnxxlo2zswXVD1eCCzsZ8xy4JB+4vdQrH4qSVKrWcIQ6qMkSa2o1jOJ0zLzMoDM3JyZn+aZ1wpKktSOrI+SpFFnIAvX7Nv7JCKeS3F9oSRJ7cz6KEkadWqdbroAuDsivktx7cWxwAUNy0qSpJHB+ihJGnVqahIzc3FE3AG8HugC/jEz72toZpIktTjr48jU3bWtLve2bQVdW7fw2BNbm52GpFGm1jOJvSuT3tvAXCRJGnGsjyNP59hx3Dn/jGanUReHzV0E2CRKqq+am0RJklQfEfFh4B3l0xszc25EHEsxfXUicF1mzivHzgQWAVOAW4CzM7MrIvYHlgJ7AQnMycxNw/xRJEmjUK0L10iSpDoom8HjgFcBM4HDIuJkiltnnAC8BDgiIo4vN1kKnJuZMygWxTmzjC8EFmbmwcAdwEXD9ykkSaOZTaIkScNrDfD+zNyamduAnwEzgAczc1VmdlE0hidGxAHAxMy8vdx2SRkfBxwFXF8dH8bPIEkaxZxuKknSMMrM+3sfR8SLKaadfpaieey1BtgP2HcH8WnAhrKhrI4PyNSpkwa6iVrQaFmEZ7j49ZJ2zSZRkqQmiIiXATdS3DKji+JsYq8OoJtixk9PDXHK+ICsX7+J7u6+u9kx/7huTevWbWzo/kfb973RXy+plXR2dgzqgKDTTSVJGmYRcSSwHPhAZl4FPALsUzVkb+DRncTXArtHxJgyvk8ZlyRpyGwSJUkaRhHxfOCbwOzMvLYM/7h4KQ4qG7/ZwLLMXA1sLptKgFPK+DZgBXBSGT8VWDZsH0KSNKo53VSSpOF1PjABWBARvbEvAKcBN5Sv3cTTi9LMAa6IiCnAXcBlZfwc4KqImAc8BJw8HMlLkkY/m0RJkoZRZp4HnLeDlw/pZ/w9wKx+4quBY+qanCRJON1UkiRJklTFJlGSJEmSVNHw6ablNRS3AW/KzF9FxLHAAmAicF1mzivHzQQWAVOAW4CzM7MrIvanuKnwXkACczJzU6PzliRJkqR21NAziRHxauBHlPd+ioiJwGLgBOAlwBERcXw5fClwbmbOoLgP1JllfCGwMDMPBu4ALmpkzpIkSZLUzhp9JvFM4K+Br5TPZwEPZuYqgIhYCpwYESuBiZl5ezluCXBxRCwCjgLeUhW/GbiwwXn/nu6ubUO6mWzX1i089sTWOmYkSZIkSfXX0CYxM88AqFrie19gTdWQNcB+O4lPAzZkZlefeM2mTp004Lz70zl2HHfOP2PQ2x82dxHTp4+vSy4amqE0+43WyrlJkiSpPQz3LTA6gZ6q5x1A9wDilPGarV+/ie7uYhfN/gN83bqNTX3/0WKo38dGfR/q8fPlz4g0OJ2dHXU7KChJUrsb7ibxEWCfqud7A4/uJL4W2D0ixmTm9nLMo8OUq6QGmjxlAhPGjxv09pu3bGPjhs11zEiSJEkw/E3ij4GIiIOAVcBsYHFmro6IzRFxZGbeCpwCLMvMbRGxAjgJuAY4FVg2zDlLaoAJ48cxe+7Vg97+mvlz2IhNoiRJUr0N630SM3MzcBpwA7ASeAC4vnx5DnBpRDwATAIuK+PnAGeVi9u8Fpg3nDlLkiRJUjsZljOJmfmCqsfLgUP6GXMPxeqnfeOrgWMamJ4kSZIkqTSsZxIlSZIkSa3NJlGSJEmSVGGTKEmSJEmqsEmUJEmSJFUM9y0wJEmSpKbo7trG9OmTm51GXXRt3cJjT2xtdhoapWwSJUmS1BY6x47jzvlnNDuNujhs7iLAJlGN4XRTSZIkSVKFTaIkSZIkqcImUZIkSZJU4TWJaitDvWDdi8RHv8lTJjBh/LhBb795yzY2bthcx4wkSWqOodbEVmJ9HhibRLWVoV6w7kXio9+E8eOYPffqQW9/zfw5bMQipF2LiCnAbcCbMvNXEXEssACYCFyXmfPKcTOBRcAU4Bbg7Mzsioj9gaXAXkACczJzUxM+iqRRaqg1sZVYnwfGJlGSRoBWPsM5lNza9chuRLwauAKYUT6fCCwGjgYeBm6MiOMzcxlFI3hGZt4eEVcCZwKXAwuBhZl5bURcBFwEXDj8n0aSNNrYJErSCNDKZziHklsbH9k9E/hr4Cvl81nAg5m5CiAilgInRsRKYGJm3l6OWwJcHBGLgKOAt1TFb8YmUZJUBzaJkiQNs8w8AyAiekP7AmuqhqwB9ttJfBqwITO7+sQlSRoym0RJkpqvE+ipet4BdA8gThkfkKlTJw10E7WgoSzIppHN7/3A+PWqnU2iJEnN9wiwT9XzvYFHdxJfC+weEWMyc3s55tGBvun69Zvo7u7ba+6Yf2C1pnXrNjZ0/37fW5ff+4Fp9NerFXV2dgzqgGBTmsSI+AHFamzbytC7gRcB84BxwKcz8/Pl2H5XextNXPRBMLTbc3hrDmnE+zEQEXEQsAqYDSzOzNURsTkijszMW4FTgGWZuS0iVvD/27vz8MjKOu3j3+6mQQQUFBBxUBDwxgERaFnEDUEHdQBFfFHZRAERBfUVZlxAaVGUl9EZcBkElE3A0QEHh80GbJpNlFWwRW4dNhFRBhFZGlnz/vGcSlenk/Saek4l9+e6+krOSSq5k0pX1e88yw/eDZwJ7AVcWCt8RESMLz0vEiVNouzm9pLOWgpJLwL+A5gGPA78tCkk72Dk3d7GjWz6ELBk7TlGa83R5l0xI6Kw/TdJewNnA88CLgDOaj68O3Bi0zLjBuBrzfkPA6dKOgz4HfDenoaOiIhxq8ZIYmeV/kWSnk/ZAvxhYKbtBwAknQW8i7JT23y7vZGrpT2REc7xoc27YkZMdLbX7nr/J8Arh/mcmyi7nw49fxewzRjGi4iICapGkbgK8BPgIMrU0lnA95l/97YtGHlXt4XWpkX5YzWveyzniy/JCOezVlv80as2a+v8/LHMNRF/5iWRXIumrbkiIiImqp4XibavBq7uHDeNgf8V+GLXpy1oV7eF1r0ov/YLkZEWyy5prrFahDtecy2psbofl9RY5hqL+zK5Fk1bc0E7HisWd2F+REREzG9yr7+hpNdK2q7r1CTgThZtV7eIiIiIiIgYAzWmm64MHCFpa8p00/cBewCnS1oNeBTYBfggcDPD7PZWIXNERERERMSE0PORRNvnAecDNwLXU7b4vgo4FLgU+AVwpu1rbP8N2Juy29stwK3M3e0tIiIiIiIilrIqfRJtfxb47JBzZ1J6PQ393GF3e4uIiIiIiIilr+cjiREREREREdFeKRIjIiIiIiJiUIrEiIiIiIiIGJQiMSIiIiIiIgalSIyIiIiIiIhBVXY3jYhYUs889SSrrbbSYt32qSce5y9/fWIpJ4qIiIgYH1IkRkRfmrzMVK4/et/Fuu20f/42kCIxIiIiYjiZbhoRERERERGDMpIYY2JJpgJCpgNGRERERNSSIrHPtbUYW5KpgJDpgNG/2rpWsq25IiIion1SJPa5FGMR7dLWtZJtzRURERHtkzWJERERERERMShFYkRERERERAzKdNOIiKgmayUjIiLaJ0ViRIwqL+JjLGWtZERERPukSIyIUeVFfERERMTE0hdFoqTdgMOAqcAxtr9ZOVJEREQr5DkyImLBlrRtXJv0YqZW64tESS8CjgSmAY8DP5V0qe1b6iaLiIioK8+RERELZ0nbxrVJL2Zqtb5IBN4EzLT9AICks4B3AUcs4HZTACZPnjTPyVVXWWGxgyz7nOcv9m2Hy9ItueY30XLBkmVLrkWTXItmtFxQ7/9kJ1dXvimL/cX601J9jlwYS/p32BZL+lzQJotzPy6q8XK/Q+77RZX7vp0W9r5f3OfHSQMDA4sYqbckfRpYwfZhzfG+wBa2P7iAm74WuGKs80VERKu8DriydoheyXNkREQspEV6fuyHkcTJQHclOwl4ZiFudy3ll3Ev8PQY5IqIiPaYAryQ8tg/keQ5MiIiRrNYz4/9UCT+nvJE1rEG8IeFuN3jTKCryRERwW21A1SQ58iIiFiQRX5+7Ici8RJguqTVgEeBXYAFTaOJiIiYCPIcGRERS93k2gEWxPY9wKHApcAvgDNtX1M3VURERH15joyIiLHQ+o1rIiIiIiIiondaP5IYERERERERvZMiMSIiIiIiIgalSIyIiIiIiIhBKRIjIiIiIiJiUIrEiIiIiIiIGJQiMSIiIiIiIgYtUztAP5H0HNsPtSDHyUB375IB4DHg18CJtp+olGuG7e1rfO9+JOl9tk8dcu4jtr9ZK1OTYUPbvxpybivbP6uYab7fVfQnSRsA+wIbUB63bgG+Y/t3VYPFuCdpF2CG7UdqZ4nekiTgg8Aq3edtf6BOouglSSsAzwMmdc7lOWfBUiSOQtIOwOuALwDXAqtJOsT2KVWDwVOUP/bOi+b3ACsBTwPfAmo96D1b0lq27670/ech6Q7mLaY7JgEDtl/a40gASPo48BzgQ5Je0vWhqcBuQJUiUdJrgCnAtyXtw9wH02Uof1cvq5Gr8THm/r23iqRLGfmizZds/6VSrt9S7s/hch1i+64KmbYDvt/8O7/JtDFwraRdbV/W60wxobwZ+LKku4DzgPNs31Y5U/TGfwH/AdxcO0j0lqTDgX8C/rfr9ABQ5TVgP0mROLrDKVe83wNcA3wEuAw4pWImgE1sb945kHQu8HPbu0q6qWKu1YA7Jd1HeTEKQK1iDNim0vddkN8Cr6IUYZO6zv8N2LtGoMabgTcALwSO6Dr/FHB8lUT94RbgSeCk5ng34O+APwDfAd5ZKdeFwO1duXYHNgfObXK9qUKmzwPb276++6SkU4CvUi7KRYwJ2x8CkPRyYAdglqRHbL+8brLogQdtH7HgT4txaG/gJbb/XDtIv0mRuAC2b5I0HTjd9iOSptbOBKwoaQ3bf2yOVweWb96veZ/uRHnhuSrQ81GKoTojJZKWA94GrEgpyqYA6wCfq5TrfOB8SRvb/nyNDMOxPR1A0p62v1s5zlAbSrp9mPNVR4UbW9me1nV8s6Rrbe8haa9qqeC1tj/adXycpH1sf0DSZytleu7QAhHA9jXNdKCIMSNpc8qFsDcAG1JmCM2sGip65RRJRwI/oVz4BMD25fUiRY/8Afhr7RD9KEXi6P4k6euUUZ89JH0VaMMc5sOB6yX9lFLwvAr4WFPMXlwx19HAGsCtlCIMypB+7WmC36OsQ1gPuAJ4I3Bl1UTFepIm2R5uSmxNl0v6F+afv19z7cb/UAr9NpravY5T0obAFEnLA8tWzPW0pO1tz2hybQ88IekFlKnNNTxZ6ftGQHncfwA4BtjN9sOV80TvbA28pnnbMQBsWydOjDVJnYGAB4GrJV3IvBcIMrK8ACkSR/deYGfgGNuPNiMZ0+tGAts/kDSTMjXraeCDtu+XdJntBypG28D2BhW//0g2BtYHjqVMvTuMsiaqtj8Dt0q6gXmn59ZeSP8DSjF9BcOv6azhiRpr6BbSR4ELJf2JctFmZWBPymPFaRVzvZ9y9fwMSrH/P8D7KJs3fKVSppUkvY55p1l3rNjrMDHhrEJ53twW+LGkp4ErbB9aN1b0wGa2168dInqq8zxzzTDnYiGkSByF7YebJ5EPNNMUHm7DlUdJKwPvZu5IzyaS2nBV5DZJL27hjlH32R6QdCuwse3TJNUc4emoPcI6kqm2D6kdYoiragcYie1Zkl4KvIJy0ebXtp+U9NOao8S2ZwOvkrQK8HTXzsxfqJUJuId517sO/VjEmLE9p5mBsxxlicb2wBZ1U0WP/KpZ4pGNayaINi3n6VeTBgbaMlDQPpKOomxAMQ3YEvgRcIPtgyvnupgyv3o2XSM9tf5DdO3uuDqwFnAT8w7pV53OIekE4HHgOOAMyijibrY3rpkLQNJGlA12lgFm2f5F3UQg6WuUacszarVT6SfNDrUH0q7puUjaFPgM8+fK9KqYkCT9jLIx18WU3XUvacOF3xh7km6kzCq6F3iCdqxnjx6QdDewJmXaKZTZPg9SNnbbrw2vu9oqI4mj2x7YjFIYPiTpzZTtk6sWicAatt9cOUO36bUDLMABwNa2b2nmqG9H2YGyKkmdKYnnAJOBH0r6ou2TRr3h2HsXpehB0gBzn0ynjHqrMSTpGUZvZ1ItG+2cngtlquvxDLmYVJOkUf+2axfWMe59mPL/QZSp4Y+N/ukxjryjdoCo5jLgLNvnAEh6K7Ar8DVKy7HXVMzWaikSR/dM87bzAmu5rnM13dimaRN90NvsBZTtzq+gvEDYlXn75dRyMLBFZ1vmZkrzLOa2LKjC9po1v/9wbE+unWEUbZyeCzDH9jdqhxii81ixA6W36+mUWQfvJrvPxdibDJiyec1k4AWSdrb987qxogfeMML5muvGozc2sr1H58D2hc0F+RubDeZiBCkSR/cDytTE5zUN0PcEzqwbCYCNKIXinyi99TJtYnRnUJroQtkK+XLgu8A/VEtUTOnu29NsPlT9IkSzXvMQytX2g4CPA0dl6umIrpS0I+2bnjtD0kHADMrjBAA11wzbPhVA0oeBV9t+pjn+AfCzWrliwjgWeE+nKJS0FfB1si5xInhj1/tTKRsYXU6KxIngQUn7Uy5KTqb0DH5A0gbNcYwgReIobP+/Ztv4u4AXA4fbPq9yLCg7rsbCe57t4wFsPw6cKOmAypkAbpJ0DKWxOcA+lPWctX2TMtI6jTLKsz5ldHOP0W40gXVPz+2cqz0FFspFLYBPdJ0bANpwMem5lLWS9zfHLyC7m8bYW7F71ND2zyQ9q2ag6A3b7+8+lvQ82rHLeYy93SkXiI6mbC53MbAX5bn7UxVztV6KxGFIen3X4WPAud0fq9V8VdIOTZGaaROL5jFJb7V9IYCkNwGPVs4EsB9lTeJJlNHgSylrZmqbZnuz5nc2p2kI/8vaodqqjdNzAWyvs+DPquZI4GZJV1Gu5G5FaSUSMZYekPR22z8CkLQzpRVRTDyPAGvXDhFjz/Y9lIJwqK/3Oku/SZE4vNF2Ca3ZfHVz4DzmnTbRMUCKxJF8CDhd0neb47uZO8pSje3HJH2V0sPnSUq/rjbstDfQTDntrMVdlZZsfNJGklYD3kPpwTaoVksaSdNtT5d0MsPcb23YHMb2dyVdQmlsPQAcYPu+yrFi/Psg5bmgM3vjdjJDYkLo2oUdykXZlwIX1EsUY03SebZ3kHQHwz8XtmFWTaulSByG7eGKsOpsH968e6bti7s/JumdFSL1hWZ7440kPR94sqtfXFWS9qA0Nb+SstPecZL2s137iesY4BJgjWY67M6MfuFkoruAMtJ6V+0gjeubt7NqhhhN0+v1ncxtz7FRS3q9xjg0pECYA9xBGcF+FPgW9S78Ru9M73p/ALjf9i2VskRv7Ne83R54E+WCd1uep/tCisRRNIvaP01ZKzOJ8kL+JbbXrpTn3ZQdVo9oWjl0LEPph/bDGrnaStIJtj845AXC4LqxFvSLO4wytfMeGOy3dy6Vr242ozzXU0aspwA7tmUn3bZqw+hch+3O9Pg1bX+5+2OSvlQh0nD+k2F6vUaMkem1A0QdkjazfQPzP86sWnP5UIw92/c27x5N6Y/6a6CzDGMAOLVGrn6SInF0JwH/AuxN6afyTuCGinlWovRzWYl5p5w+BRxaJVG7Hd+8nV4zxCgepjT2BcD2XZKq747ZTDVdl5IPYBNJm9jOdObhnSNpX2Am5f8iUG8XUUlHAasDO0lav+tDy1DW/n2mRq4h2tbrNcaxPmjTFGPnAMqI0nCzYWouH4re2cD2BrVD9KMUiaN73PbJktYG/kLZDanaBh62vw18W9J2tn9SK0e/sH198/YySRsyd2pbW1wLXNCsHXuK0r/x3majGCoWZRdSfk/d0zKy5nVkK1J2SLu/61zNXUTPBv4e2I65fQmh/I19oUqi+bWq12tEjE+292vetnIZUfTEbZJeXLP9U79KkTi6vzXbJBvYyvZMSbW3tYeyQ9t/MqToacH0yVaS9A1gJ8omBZ0pJ224grg8ZSTxLc3xnObfG6lblK1q+5WVvnc/2hFY3fZjtYMA2L4WuFbSOZTCcF3KtM7lbbdhV19Ir9eI6IGhy02Gyuum8avrvl8d+KWkm5h3tk/u+wVIkTi6f6X00XkncI2k3YHr6kYCSvFwPFnPs7C2B9SWF/Edtt8vaRlgY8oD1y9tt+H+nNm0CZnZaXYeo7qTsrNpq/6+KH0uT6CsK301MFvSbrYvqhsLSK/XiOiN6c3b/SiP0adSnm/fS7lQG+PX9NoB+l2KxNH9DrgIeJwy4rMNcEjNQI05tr9RO0QfuZ12TTMFBvs1ngb8gfJCfmVJuzYjQTXdRfm7H2g2+emM8rRhFL2NlgVukTQbGFxT2oKrlF8GXgtcaPuPTf/X71Hu29r+CLyNeTcFWwf43Gg3iohYFJ31qJK+Ynvzrg/9TFIbLvrHGMla5CWXInF0x1JetLwLeAh4CWUH0QtrhgJmSDoImEGZqgXU2yijDzxAeRH/U+b9fdXekfIY4K22bwKQ9CrKduyvqpqq9BLvCKOjAAAP8klEQVRbO39PC+3IkT4gaQ3bf+xlmC6Tm+IQANu3dN5vge9RRl/XA66gTLG+smqiiBjPlpf0Mtu/AZD0CmBq5UwRrZYicXSTbV8k6QzgbNt3N9MDa+s0gv9E17maG2W03Y+bf23zeKdABLB9naQ2jHjeC/y5doh+sYCrlRcAm/UqyxC/l7QDZUR4ZeAjlNkRbbAxsD7lQtxJlHYw36+aKCLGs08AsyTdQ+mRuTplymlEjKANBU+bzZF0MGWDkwMlfZS5bQGqsb3Ogj8rOmyfKmkF2re76eWSvg2cSFkj8R7gzmZaIBX7N/2Zsn7tKuadPll75LUf1fx7259ShK0F3EZp0bHfqLfonftsD0i6FdjY9mmSlqsdKiLGp+aC/9rAKygX1W+2/dTot4qY2FIkjm53YB9gF9t/kfQiYLfKmZB00nDn8yJ+eJI+B/wz8L+UJ4dJtGPkdZPm7VFDzn+euruvnt/8iyVXcyOip23Pc6Vc0o7AuZXydJst6evAccAZktYkm3BFxBiRtAqlqfq6lCVEJ0g62PZf6iaLaK8UiaOwfQ9wRNfxJyvG6dY9vW0qpb3DrZWy9IP3Ay+x3aoplG3t29SMvK4NbEhZ97qW7TvqporFcImkN9u+X9IawDco/ROrFokqCyOnA+s26yQ/B+zAvH0mIyKWphMpm3ZtATxCWVZxOvCPNUNFtFmKxD5k+9TuY0nfAa6qFKcf/AH4a+0QQ43Uv6n2rpiS3k1ZI7Y8sDVwtaRDbJ9eM1cssi8CF0s6jTKS/u9UXoMjaTpzd4jutMHYgJLrpzUyRcSEsI7tEyQdYPsJ4NCmb15EjCBF4vjwcuCFtUO0TTNCAfAgpdC5kHkbqR4x7A17Z3rX+1OBtwNtmPrySUpxeLnt+yRtClxCueoai6bamkTbZ0t6CDgb2Mn2rFpZuuxF2bBmTeAISZ8A/g74P7ZnVE0WEePZU5KeS3NhVtL6QPoAR4wiRWIfkvQMc9fWQVlr9+l6iVqr8/u5Zphz1Q2zK+Ylkn5O/V5xT9t+uKt1wr3N31wMQ9KnbX95yLkv2f4McFCFPHcw7wj1JOAcSQ8A2K65Fvdh2/cC90ragtIndAfbT1fMFBHj3+HALGAtSecArwayj0PEKFIk9iHbk2tn6Ae2Pw/QtC15m+3/lrQqZQ3nyVXDAZJe3HU4CdgIeH6lON1+JelAYKqkTYAPA7+onKl1JB1F2UZ9p+aqdMdUYEvgM7Zr9P7bpnm7OnBfhe8/mu6LDffbPrhakoiYSK4H/gvYEXgxpef1NLJJW8SIUiT2IUnPplwV245yH84EPmv70arB2usEYArw383xGymL1z9ULVFxGXNHhJ+hbNxxYNVExUcoaxIfo/Swmwnkxfz8zqZsBLMd5Qp1Z5T6Kbo2vOo123cBSPqx7ZfXyjGC7hHOx6qliIiJ5gLgZuC8rnOtmVkU0UYpEvvTN4A5lKkSkyi9z74F7FkzVIttbvsVALbvB/aUdHPlTFD6Ir6Wcn+eS72m6/NoLjZ8mkxhHpXta4FrJZ0PbD1kpPp/6qYD4CZJe1KmWw8WZLZ/Vy8SG0q6vXn/RV3vTwIGKk+FjYhxzPY+tTNE9JMUif1pmu1Xdh0fKOmWamnab7KkFzZroZC0Ou1YsH4sZf3hOylF/6aUKTA/rhlK0t2UjUUebE6t3Lx/O7Cf7Uw9ndfRzD9SvSWlmX1NWzb/utXuD/qyit87IiaucyTtS5kZ072BXc2LZhGtliKxP02WtLLtBwEkrUzXg17M50jgRkmd9WFbAh+rmKdjsu2LJJ0BnG377mb9ZG2XAWfZPgdA0luBXYGvAd8EXlMxWxu1cqTa9jq1MwzVmQobEdFjKwKfYt5+rLUvmkW0WhtekMai+1fKNLfOyMVOwJdH+fwJzfaZkmZRdjN7EjioM6pY2RxJBwPbUkaDPwo8XDkTwEa29+gc2L5Q0hdt3yhp+ZrBWqqVI9XNZjoHUl4cTaKMdq5j+/VVg0VE9N6OwOq2sxY6YiFll8w+ZPtkSiPq24E7gZ1tn1Q1VItJWhbYm9KH8DJgv+ZcbbsDKwC72P4L8CJgt7qRAHhQ0v6SVpC0kqQPAQ9I2oA8ZgynM1J9lqSzKLvo1e7BCfA9yjThTSm7074YmF01UUREHXcCq9QOEdFPJg0MDCz4s6JVJL0CONT2eyS9HDieslbMlaO1kqQTKb0kd6LsavotylTPPUa94QQl6UWU9ZJvBp4GLgY+DrwL+K3tqmsm20jSmswdqb62DSPVkm62vbGkL1F29rseuM72hpWjRUT0lKSLKM//s4EnOudtb1stVETLZbppfzoRmA5g+9eSvgB8h7JTZsxvmu3NJL3V9hxJ7wN+WTtUW9m+h1IQDpK0vO2vV4rUapI+N+TUJpKwXXs0cY6k5YDfUP4PXCmpcqSIiCqOrB0got+kSOxPK3SP5ti+WNLRNQO13EAzvbQzbL4q8/Zriy6SdgS+yLxr2Z4NrFYzV4t199qaCrwF+HmlLN1Op7RW2R24WtJbgN/XjRQR0Xu2L6udIaLfpEjsT/c168ROb47fC/ypYp62Owa4BHihpGMoLSemV03Ubv9G6b15MOXq6zsoaydjGLY/333cjOxfVClOt+9T1pAeAMwCNgdm1AwUERER/SGbUPSn9wM7APcCdwFvA/atmqjd3kHpWfdF4DbK7273qona7UHblwI/A55r+5OUHVhj4axI2SSmtguAV1JGOu+m9OB8tGqiiIiI6AsZSexDtn8n6bNNS4LnUtYbZRrZEJJ+CGxCaQy/KXOnBf4TkAa6I3tM0suAXwPbSJoJtGE32FaSdAdzpy9Ppuyg9y/1Es1le5/aGSIiapN0CjDb9ldqZ4noFykS+5Cko4DNgH+grBX7nKTX255eNVj77A08j7JT50e7zj9FpueO5jDKqOuelObD+wNpsTKybbreH6CMxD5UKUu3cyTtC8yk/M0D5SJTvUgRERHRD1Ik9qcdKNPIsH2vpDcBN5J1dvNoXqg/ROmPGAupWeDfWeS/uaRVmj6O0UXSXqN8DNun9TLPMFakFPn3d50bAF5aJ05ExNIhaUXgZGB94BlKi5/9KWvqtwJWoswe2tf2VUNu+4Hmc5elXEg+yvZxkvYG9qGswf8r5eLaD2yf2NzuMOD5tv/vmP+AES2QIrE/LQMsDzzSHHfv3BmxRCRtCnyG8uQ5qTmXflLze2Pzdl1gPcoawKcou5v+CqhdJO4IrG77sco5IiKWtp2BlWxvImkKpf/xayjLS15t+xlJn6JcKNuxc6OmuNwPeJvtP0vaitIL+LjmUzYE1rb9kKR3UJ4LT5Q0mVJAvqVHP19EdSkS+9PxwPWSzm2O3wp8o2KeGF9Oo/yNzSYXH0Zk+/0Aki4FNrZ9f3O8CnBOzWyNOynrI1MkRsR4cyXwJUmzKEXeMbZ/Jek+YH9J61KWAjzcfSPbj0jaAfhHSetT9i1YsetTbu5aLnAucKykV1KKzztseyx/qIg2SZHYn46j9GNbDngQ+A7wwqqJYjyZYzsXHRbemsADXceP0o7/j8sCt0iaDTzROZkR4Yjod7bvkLQepRDcFrikaQ321ebfj4BbgT26byfp74CrgRMoheZZlCU8HZ0ZWth+WtLxwAcoj/PfGqufJ6KNUiT2pzMpIwTrAVdQpr1dWTVRjCczJB1E6an3t87JbHgyovOBi5vddCcBu1J6FNZ2ZO0AERFjQdIBwOuA3W3PkPQCygyOY5r1hcsDnwSmDLnpq4D/pWzOBmU6Kc2U1eF8G7iOspRgt6X7U0S0W4rE/rQxZbH2sZRdJw+jHS9KY3zYs3n7ia5z2fBkBLY/IWkXyhXtZ4Cv2P7vuqkGNyCKiBiPTqM85t4iaQ6lrdXWwL9L+iXl9e1FwC7NesKOiygjg6Y8Xl9GKRrXG+6b2L5P0nXAr20/OUY/S0QrpUjsT/fZHpB0K2Ut1GmS0sculgrb69TO0IfmUKZ0TmFuP86IiBgDth8F3j3MhzYdcvyx5u3eXed2GvI5+3e+LHBK9wckrdp8zY8RMcGkSOxPsyV9nbI28QxJa5IXprGUNIv5D6Qs5p9EKXzWsf36qsFaStI/A7sAZ1B+X4dK2sh2pntGRPQpSfsBXwIOt3137TwRvZYisT8dAGxt+xZJhwPbkbnysfR8j7LO7nWUq6o7U3Y6jeHtAWzZaTUh6URKz64UiRERfarpj3hi7RwRtaRI7EO2n6ZsWEOz9qn6+qcYV5a1fbikqcANlCfJ6ypnarPJQ3oR/o2yyUFEREREX0qRGBFDzZG0HPAbYJrtKyXVztRmMyWdzdy1LO8DZtaLExEREbFkUiRGxFCnU5oI7w5cLektwO/rRmq1jwEfAvYCJlMKxOOrJoqIiIhYAikSI2Ko71OKnQOAWcDmlJ6JMbwf296espFURERERN+bvOBPiYgJ5gLglZSdOu8Gfgg8WjVRuz1b0lq1Q0REREQsLRlJjIj52N6ndoY+shpwp6T7gMENbGy/tF6kiIiIiMWXIjEihjpH0r6UtXWDu3Ta/l29SK22E/CPwLaU39cFwE+qJoqIiIhYAikSI2KoFYFPAfd3nRsAMjI2vEOBZwEnUKbw7wVsCHy8ZqiIiIiIxZUiMSKG2hFYfUjvvxjZlrY36BxIOheYXTFPRERExBLJxjURMdSdwCq1Q/SROySt13X8AuCeWmEiIiIiltSkgYGB2hkiokUkXQRsQRkNe6Jz3va21UK1mKRLgFcDl1PWJL4WuBf4I+T3FhEREf0n000jYqgjawfoM18YcvyVKikiIiIilpKMJEZERERERMSgrEmMiIiIiIiIQSkSIyIiIiIiYlCKxIhxRNIpkg6pnSMiIiIi+leKxIiIiIiIiBiU3U0jWkzSisDJwPrAM8D1wP7AvwFbASsBk4B9bV815LYvB44Fng9MAb5m+6SRvqbtZ3ryQ0VEREREq2UkMaLddgZWsr0JsHlz7jXAmsCrbf89cCrwqe4bSVoGOAv4lO1pwBuAQyRtNcLXfOmY/yQRERER0RfSAiOixSStQ2nSfhtwMXCO7V9JErAtsC6wDfCw7TdKOgWYDVwA3ADc2vXlngscDfx4uK/Zkx8oIiIiIlovI4kRLWb7DmA94MvAc4BLJL0dOL/5lB8B36JMOe02Bfir7U06/yjTU08e4WvuOPY/TURERET0gxSJES0m6QDK+sGLbH8SmAGcA5xr+zjgOuAdlKKwm4HHJO3RfJ21KCOM00b4mpv14ueJiIiIiPZLkRjRbqdRCsBbJF1PmTK6NbCNpF9SppTeBqwjafD/s+0ngLcD+0q6GbgI+Gyzuc1wX/NrPfyZIiIiIqLFsiYxIiIiIiIiBmUkMSIiIiIiIgalSIyIiIiIiIhBKRIjIiIiIiJiUIrEiIiIiIiIGJQiMSIiIiIiIgalSIyIiIiIiIhBKRIjIiIiIiJi0P8HOujaibUBgrcAAAAASUVORK5CYII=\n",
      "text/plain": [
       "<Figure size 1080x864 with 6 Axes>"
      ]
     },
     "metadata": {
      "needs_background": "light"
     },
     "output_type": "display_data"
    }
   ],
   "source": [
    "#####own written########\n",
    "fig=plt.figure(figsize=(15,12))\n",
    "\n",
    "for index,var in enumerate(categorical):\n",
    "    print(var,index)\n",
    "    plt.subplot(3,2,index+1)\n",
    "    plt.subplots_adjust(hspace=0.5)\n",
    "    plt.xticks(rotation=90)\n",
    "    sns.countplot(x=var,data=df,hue='left')"
   ]
  },
  {
   "cell_type": "markdown",
   "metadata": {},
   "source": [
    " ### Some Group_By functions Basic "
   ]
  },
  {
   "cell_type": "code",
   "execution_count": 114,
   "metadata": {},
   "outputs": [
    {
     "data": {
      "text/html": [
       "<div>\n",
       "<style scoped>\n",
       "    .dataframe tbody tr th:only-of-type {\n",
       "        vertical-align: middle;\n",
       "    }\n",
       "\n",
       "    .dataframe tbody tr th {\n",
       "        vertical-align: top;\n",
       "    }\n",
       "\n",
       "    .dataframe thead th {\n",
       "        text-align: right;\n",
       "    }\n",
       "</style>\n",
       "<table border=\"1\" class=\"dataframe\">\n",
       "  <thead>\n",
       "    <tr style=\"text-align: right;\">\n",
       "      <th></th>\n",
       "      <th>salary</th>\n",
       "      <th>left</th>\n",
       "    </tr>\n",
       "  </thead>\n",
       "  <tbody>\n",
       "    <tr>\n",
       "      <th>0</th>\n",
       "      <td>high</td>\n",
       "      <td>82</td>\n",
       "    </tr>\n",
       "    <tr>\n",
       "      <th>1</th>\n",
       "      <td>low</td>\n",
       "      <td>2172</td>\n",
       "    </tr>\n",
       "    <tr>\n",
       "      <th>2</th>\n",
       "      <td>medium</td>\n",
       "      <td>1317</td>\n",
       "    </tr>\n",
       "  </tbody>\n",
       "</table>\n",
       "</div>"
      ],
      "text/plain": [
       "   salary  left\n",
       "0    high    82\n",
       "1     low  2172\n",
       "2  medium  1317"
      ]
     },
     "execution_count": 114,
     "metadata": {},
     "output_type": "execute_result"
    }
   ],
   "source": [
    "left_ppl=df.groupby('salary')['left'].agg(lambda x:(x==1).sum()).reset_index()\n",
    "left_ppl\n"
   ]
  },
  {
   "cell_type": "code",
   "execution_count": 115,
   "metadata": {},
   "outputs": [
    {
     "data": {
      "text/html": [
       "<div>\n",
       "<style scoped>\n",
       "    .dataframe tbody tr th:only-of-type {\n",
       "        vertical-align: middle;\n",
       "    }\n",
       "\n",
       "    .dataframe tbody tr th {\n",
       "        vertical-align: top;\n",
       "    }\n",
       "\n",
       "    .dataframe thead th {\n",
       "        text-align: right;\n",
       "    }\n",
       "</style>\n",
       "<table border=\"1\" class=\"dataframe\">\n",
       "  <thead>\n",
       "    <tr style=\"text-align: right;\">\n",
       "      <th></th>\n",
       "      <th>salary</th>\n",
       "      <th>left</th>\n",
       "    </tr>\n",
       "  </thead>\n",
       "  <tbody>\n",
       "    <tr>\n",
       "      <th>0</th>\n",
       "      <td>high</td>\n",
       "      <td>1237</td>\n",
       "    </tr>\n",
       "    <tr>\n",
       "      <th>1</th>\n",
       "      <td>low</td>\n",
       "      <td>7316</td>\n",
       "    </tr>\n",
       "    <tr>\n",
       "      <th>2</th>\n",
       "      <td>medium</td>\n",
       "      <td>6446</td>\n",
       "    </tr>\n",
       "  </tbody>\n",
       "</table>\n",
       "</div>"
      ],
      "text/plain": [
       "   salary  left\n",
       "0    high  1237\n",
       "1     low  7316\n",
       "2  medium  6446"
      ]
     },
     "execution_count": 115,
     "metadata": {},
     "output_type": "execute_result"
    }
   ],
   "source": [
    "left=df.groupby('salary')['left'].apply(lambda x:(x==1).count()).reset_index()\n",
    "left"
   ]
  },
  {
   "cell_type": "code",
   "execution_count": 116,
   "metadata": {},
   "outputs": [
    {
     "data": {
      "text/html": [
       "<div>\n",
       "<style scoped>\n",
       "    .dataframe tbody tr th:only-of-type {\n",
       "        vertical-align: middle;\n",
       "    }\n",
       "\n",
       "    .dataframe tbody tr th {\n",
       "        vertical-align: top;\n",
       "    }\n",
       "\n",
       "    .dataframe thead th {\n",
       "        text-align: right;\n",
       "    }\n",
       "</style>\n",
       "<table border=\"1\" class=\"dataframe\">\n",
       "  <thead>\n",
       "    <tr style=\"text-align: right;\">\n",
       "      <th></th>\n",
       "      <th>salary</th>\n",
       "      <th>left</th>\n",
       "    </tr>\n",
       "  </thead>\n",
       "  <tbody>\n",
       "    <tr>\n",
       "      <th>0</th>\n",
       "      <td>high</td>\n",
       "      <td>1237</td>\n",
       "    </tr>\n",
       "    <tr>\n",
       "      <th>1</th>\n",
       "      <td>low</td>\n",
       "      <td>7316</td>\n",
       "    </tr>\n",
       "    <tr>\n",
       "      <th>2</th>\n",
       "      <td>medium</td>\n",
       "      <td>6446</td>\n",
       "    </tr>\n",
       "  </tbody>\n",
       "</table>\n",
       "</div>"
      ],
      "text/plain": [
       "   salary  left\n",
       "0    high  1237\n",
       "1     low  7316\n",
       "2  medium  6446"
      ]
     },
     "execution_count": 116,
     "metadata": {},
     "output_type": "execute_result"
    }
   ],
   "source": [
    "total_ppl=df.groupby('salary')['left'].agg(lambda x:(x==1).count()).reset_index()\n",
    "total_ppl"
   ]
  },
  {
   "cell_type": "code",
   "execution_count": 117,
   "metadata": {},
   "outputs": [
    {
     "data": {
      "text/html": [
       "<div>\n",
       "<style scoped>\n",
       "    .dataframe tbody tr th:only-of-type {\n",
       "        vertical-align: middle;\n",
       "    }\n",
       "\n",
       "    .dataframe tbody tr th {\n",
       "        vertical-align: top;\n",
       "    }\n",
       "\n",
       "    .dataframe thead th {\n",
       "        text-align: right;\n",
       "    }\n",
       "</style>\n",
       "<table border=\"1\" class=\"dataframe\">\n",
       "  <thead>\n",
       "    <tr style=\"text-align: right;\">\n",
       "      <th></th>\n",
       "      <th>salary</th>\n",
       "      <th>left_x</th>\n",
       "      <th>left_y</th>\n",
       "    </tr>\n",
       "  </thead>\n",
       "  <tbody>\n",
       "    <tr>\n",
       "      <th>0</th>\n",
       "      <td>high</td>\n",
       "      <td>82</td>\n",
       "      <td>1237</td>\n",
       "    </tr>\n",
       "    <tr>\n",
       "      <th>1</th>\n",
       "      <td>low</td>\n",
       "      <td>2172</td>\n",
       "      <td>7316</td>\n",
       "    </tr>\n",
       "    <tr>\n",
       "      <th>2</th>\n",
       "      <td>medium</td>\n",
       "      <td>1317</td>\n",
       "      <td>6446</td>\n",
       "    </tr>\n",
       "  </tbody>\n",
       "</table>\n",
       "</div>"
      ],
      "text/plain": [
       "   salary  left_x  left_y\n",
       "0    high      82    1237\n",
       "1     low    2172    7316\n",
       "2  medium    1317    6446"
      ]
     },
     "execution_count": 117,
     "metadata": {},
     "output_type": "execute_result"
    }
   ],
   "source": [
    "merge=pd.merge(left_ppl,total_ppl,on='salary')\n",
    "#merge['left_y']=\"total\"\n",
    "merge"
   ]
  },
  {
   "cell_type": "code",
   "execution_count": 118,
   "metadata": {},
   "outputs": [
    {
     "data": {
      "text/html": [
       "<div>\n",
       "<style scoped>\n",
       "    .dataframe tbody tr th:only-of-type {\n",
       "        vertical-align: middle;\n",
       "    }\n",
       "\n",
       "    .dataframe tbody tr th {\n",
       "        vertical-align: top;\n",
       "    }\n",
       "\n",
       "    .dataframe thead th {\n",
       "        text-align: right;\n",
       "    }\n",
       "</style>\n",
       "<table border=\"1\" class=\"dataframe\">\n",
       "  <thead>\n",
       "    <tr style=\"text-align: right;\">\n",
       "      <th></th>\n",
       "      <th>salary</th>\n",
       "      <th>left_x</th>\n",
       "      <th>left_y</th>\n",
       "      <th>Proporation</th>\n",
       "    </tr>\n",
       "  </thead>\n",
       "  <tbody>\n",
       "    <tr>\n",
       "      <th>0</th>\n",
       "      <td>high</td>\n",
       "      <td>82</td>\n",
       "      <td>1237</td>\n",
       "      <td>6.628941</td>\n",
       "    </tr>\n",
       "    <tr>\n",
       "      <th>1</th>\n",
       "      <td>low</td>\n",
       "      <td>2172</td>\n",
       "      <td>7316</td>\n",
       "      <td>29.688354</td>\n",
       "    </tr>\n",
       "    <tr>\n",
       "      <th>2</th>\n",
       "      <td>medium</td>\n",
       "      <td>1317</td>\n",
       "      <td>6446</td>\n",
       "      <td>20.431275</td>\n",
       "    </tr>\n",
       "  </tbody>\n",
       "</table>\n",
       "</div>"
      ],
      "text/plain": [
       "   salary  left_x  left_y  Proporation\n",
       "0    high      82    1237     6.628941\n",
       "1     low    2172    7316    29.688354\n",
       "2  medium    1317    6446    20.431275"
      ]
     },
     "execution_count": 118,
     "metadata": {},
     "output_type": "execute_result"
    }
   ],
   "source": [
    "merge['Proporation']=(merge['left_x']/merge['left_y'])*100\n",
    "merge"
   ]
  },
  {
   "cell_type": "markdown",
   "metadata": {},
   "source": [
    "# Visualization showing the proportion of people who left"
   ]
  },
  {
   "cell_type": "code",
   "execution_count": 119,
   "metadata": {},
   "outputs": [],
   "source": [
    "categorical=df.select_dtypes('object')\n"
   ]
  },
  {
   "cell_type": "code",
   "execution_count": 120,
   "metadata": {},
   "outputs": [
    {
     "data": {
      "image/png": "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\n",
      "text/plain": [
       "<Figure size 1080x864 with 2 Axes>"
      ]
     },
     "metadata": {
      "needs_background": "light"
     },
     "output_type": "display_data"
    }
   ],
   "source": [
    "fig=plt.subplots(figsize=(15,12))\n",
    "for index,var in enumerate(categorical):\n",
    "    ppl_left1=df.groupby(var)['left'].agg(lambda x:(x==1).sum()).reset_index()\n",
    "    ppl_total1=df.groupby(var)['left'].agg(lambda x:(x==1).count()).reset_index()\n",
    "    merge1=pd.merge(ppl_left1,ppl_total1,on=var)\n",
    "    merge1['proportion']=(merge1['left_x']/merge1['left_y'])*100\n",
    "    \n",
    "    plt.subplot(len(categorical)/2,2,index+1)\n",
    "    plt.subplots_adjust(hspace=0.5)\n",
    "    sns.barplot(x=var,y='proportion',data=merge1)\n",
    "    plt.xticks(rotation=90)\n",
    "    plt.ylabel('Percentage')\n",
    "    \n",
    "    \n"
   ]
  },
  {
   "cell_type": "markdown",
   "metadata": {},
   "source": [
    "#### 1.Now looking at the number of projects the employees who have done 7 project they left the company and then it comes who \n",
    "#### have done 2 projects 60 % of them have left the company maybe there are fired by company.\n",
    "\n",
    "#### 2.Then coming to time spend in company the top is 5 years followed by 4 and 6 it means the younger(2 or 3) and older \n",
    "#### ones(more than 6) are leaving less company then the adult ones(4,5,6)\n",
    "\n",
    "#### 3.Now who got promotion in last 5 year it seems to be conflict with previous observation in that we said who got promotion in \n",
    "#### last 5 year haven't left the but here it is 5 % of them it is because of scale because who left is a very less number so it \n",
    "#### didn't come in graph\n",
    "\n",
    "#### 4.Now coming to department in previous graphs we saw in sales department more employee left the group but if we talk in \n",
    "#### percentage then HR department is at the top followed by Accounts and technical. Management peoples are in less percentage \n",
    "#### it is because may be they are at higher positions\n",
    "\n",
    "#### 5.In case of salary the employee who are getting a low salary are leaving more than the medium and high. Those who are getting \n",
    "#### high salary only 5 % of left the company"
   ]
  },
  {
   "cell_type": "markdown",
   "metadata": {},
   "source": []
  },
  {
   "cell_type": "markdown",
   "metadata": {},
   "source": [
    "# Multi-variate analysis of Continuous variables "
   ]
  },
  {
   "cell_type": "code",
   "execution_count": 121,
   "metadata": {},
   "outputs": [
    {
     "data": {
      "text/plain": [
       "satisfaction_level       float64\n",
       "last_evaluation          float64\n",
       "number_project             int64\n",
       "average_montly_hours       int64\n",
       "time_spend_company         int64\n",
       "Work_accident              int64\n",
       "left                       int64\n",
       "promotion_last_5years      int64\n",
       "sales                     object\n",
       "salary                    object\n",
       "dtype: object"
      ]
     },
     "execution_count": 121,
     "metadata": {},
     "output_type": "execute_result"
    }
   ],
   "source": [
    "df.dtypes"
   ]
  },
  {
   "cell_type": "code",
   "execution_count": 122,
   "metadata": {},
   "outputs": [],
   "source": [
    "continuous=['satisfaction_level','last_evaluation','average_montly_hours']"
   ]
  },
  {
   "cell_type": "code",
   "execution_count": 123,
   "metadata": {},
   "outputs": [
    {
     "name": "stderr",
     "output_type": "stream",
     "text": [
      "c:\\users\\pramit aptus\\appdata\\local\\programs\\python\\python36\\lib\\site-packages\\seaborn\\axisgrid.py:2065: UserWarning: The `size` parameter has been renamed to `height`; pleaes update your code.\n",
      "  warnings.warn(msg, UserWarning)\n"
     ]
    },
    {
     "data": {
      "image/png": "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
